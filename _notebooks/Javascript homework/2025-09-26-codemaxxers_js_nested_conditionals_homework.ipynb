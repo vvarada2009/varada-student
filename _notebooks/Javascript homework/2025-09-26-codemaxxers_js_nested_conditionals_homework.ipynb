{
  "cells": [
    {
      "cell_type": "raw",
      "metadata": {
        "vscode": {
          "languageId": "raw"
        }
      },
      "source": [
        "---\n",
        "title: \"Nested Conditionals in Javascript - Homework\"\n",
        "description: \"Apply your skills of multilayered conditionals and combine all you've learned so far.\"\n",
        "layout: post\n",
        "permalink: /csp/codemaxxers/nested-conditionals-homework-js\n",
        "---"
      ]
    },
    {
      "cell_type": "markdown",
      "metadata": {},
      "source": [
        "# Nested Conditionals Homework: Javascript\n",
        "\n",
        "Complete the following three problems to practice working with nested conditionals. Each problem increases in difficulty. **All problems must be completed in JavaScript.**"
      ]
    },
    {
      "cell_type": "markdown",
      "metadata": {},
      "source": [
        "## Problem 1: Complete the Shipping Cost Calculator (Easy)\n",
        "\n",
        "An online store calculates shipping costs based on the order total and membership status. The partially completed code below needs to be finished.\n",
        "\n",
        "**Rules:**\n",
        "- If order total is $50 or more:\n",
        "  - Free shipping for members\n",
        "  - $5 shipping for non-members\n",
        "- If order total is less than $50:\n",
        "  - $3 shipping for members\n",
        "  - $8 shipping for non-members\n",
        "\n",
        "**Your task:** Complete the nested conditional so that when you run the code with the given initial values (`orderTotal = 45` and `isMember = true`), the output shows a shipping cost of **$3**."
      ]
    },
    {
      "cell_type": "code",
      "execution_count": null,
      "metadata": {
        "vscode": {
          "languageId": "javascript"
        }
      },
      "outputs": [],
      "source": [
        "%%js\n",
        "// Initial conditions - DO NOT CHANGE THESE\n",
        "let orderTotal = 45;\n",
        "let isMember = true;\n",
        "let shippingCost = 0;\n",
        "\n",
        "console.log(`Order Total: $${orderTotal}`);\n",
        "console.log(`Member: ${isMember}`);\n",
        "\n",
        "// YOUR CODE HERE: Complete the nested conditional\n",
        "if (orderTotal >= 50) {\n",
        "    // Complete this branch\n",
        "    \n",
        "} else {\n",
        "    // Complete this branch\n",
        "    \n",
        "}\n",
        "\n",
        "console.log(`Shipping Cost: $${shippingCost}`);\n",
        "\n",
        "// Expected output with given values: Shipping Cost: $3"
      ]
    },
    {
      "cell_type": "markdown",
      "metadata": {},
      "source": [
        "## Problem 2: Build a Restaurant Recommendation System (Medium)\n",
        "\n",
        "Create a system that recommends a restaurant based on the user's budget and cuisine preference.\n",
        "\n",
        "**Requirements:**\n",
        "- If budget is \"high\" (over $30 per person):\n",
        "  - If cuisine is \"italian\": recommend \"Bella Notte\"\n",
        "  - If cuisine is \"japanese\": recommend \"Sakura Palace\"\n",
        "  - For any other cuisine: recommend \"The Grand Bistro\"\n",
        "- If budget is \"medium\" ($15-$30 per person):\n",
        "  - If cuisine is \"italian\": recommend \"Mario's Pizzeria\"\n",
        "  - If cuisine is \"japanese\": recommend \"Tokyo Express\"\n",
        "  - For any other cuisine: recommend \"Downtown Diner\"\n",
        "- If budget is \"low\" (under $15 per person):\n",
        "  - Recommend \"Food Court\" regardless of cuisine preference\n",
        "\n",
        "**Your task:** Write the complete nested conditional structure. Store the recommendation in the `recommendation` variable."
      ]
    },
    {
      "cell_type": "code",
      "execution_count": null,
      "metadata": {
        "vscode": {
          "languageId": "javascript"
        }
      },
      "outputs": [],
      "source": [
        "%%js\n",
        "// Test variables\n",
        "let budgetPerPerson = 25;\n",
        "let cuisine = \"japanese\";\n",
        "let recommendation = \"\";\n",
        "\n",
        "console.log(`Budget per person: $${budgetPerPerson}`);\n",
        "console.log(`Preferred cuisine: ${cuisine}`);\n",
        "\n",
        "// YOUR CODE HERE: Write the complete nested conditional\n",
        "\n",
        "\n",
        "\n",
        "console.log(`\\nRecommendation: ${recommendation}`);\n",
        "\n",
        "// Test your code with these scenarios:\n",
        "// budgetPerPerson=35, cuisine=\"italian\" → \"Bella Notte\"\n",
        "// budgetPerPerson=25, cuisine=\"japanese\" → \"Tokyo Express\"\n",
        "// budgetPerPerson=20, cuisine=\"mexican\" → \"Downtown Diner\"\n",
        "// budgetPerPerson=10, cuisine=\"italian\" → \"Food Court\""
      ]
    },
    {
      "cell_type": "markdown",
      "metadata": {},
      "source": [
        "## Problem 3: Design a Smart Home Thermostat System (Hard)\n",
        "\n",
        "You're designing the logic for a smart thermostat that automatically adjusts temperature based on multiple factors.\n",
        "\n",
        "**Word Problem:**\n",
        "\n",
        "The thermostat needs to decide what action to take based on:\n",
        "- Current temperature\n",
        "- Whether anyone is home\n",
        "- Time of day (represented as \"day\" or \"night\")\n",
        "- Energy saving mode (on or off)\n",
        "\n",
        "**Logic Requirements:**\n",
        "\n",
        "1. **If someone is home:**\n",
        "   - During the day:\n",
        "     - If temp is above 75°F: set action to \"cooling\" and targetTemp to 72\n",
        "     - If temp is below 68°F: set action to \"heating\" and targetTemp to 70\n",
        "     - Otherwise: set action to \"maintaining\" and keep current temp\n",
        "   - During the night:\n",
        "     - If temp is above 72°F: set action to \"cooling\" and targetTemp to 68\n",
        "     - If temp is below 65°F: set action to \"heating\" and targetTemp to 68\n",
        "     - Otherwise: set action to \"maintaining\" and keep current temp\n",
        "\n",
        "2. **If no one is home:**\n",
        "   - If energy saving mode is ON:\n",
        "     - If temp is above 80°F: set action to \"cooling\" and targetTemp to 78\n",
        "     - If temp is below 60°F: set action to \"heating\" and targetTemp to 62\n",
        "     - Otherwise: set action to \"off\" and targetTemp to current temp\n",
        "   - If energy saving mode is OFF:\n",
        "     - Set action to \"maintaining\" and targetTemp to 70\n",
        "\n",
        "**Your task:** Design the complete nested conditional algorithm from scratch. You're given the framework below with initial values, but NO code. Write the entire logic yourself."
      ]
    },
    {
      "cell_type": "code",
      "execution_count": null,
      "metadata": {
        "vscode": {
          "languageId": "javascript"
        }
      },
      "outputs": [],
      "source": [
        "%%js\n",
        "// Test variables\n",
        "let currentTemp = 78;\n",
        "let isHomeOccupied = true;\n",
        "let timeOfDay = \"day\";  // \"day\" or \"night\"\n",
        "let energySavingMode = false;\n",
        "\n",
        "// Variables to set\n",
        "let action = \"\";  // Will be \"heating\", \"cooling\", \"maintaining\", or \"off\"\n",
        "let targetTemp = currentTemp;\n",
        "\n",
        "console.log(\"=== Smart Thermostat Status ===\");\n",
        "console.log(`Current Temperature: ${currentTemp}°F`);\n",
        "console.log(`Home Occupied: ${isHomeOccupied}`);\n",
        "console.log(`Time of Day: ${timeOfDay}`);\n",
        "console.log(`Energy Saving Mode: ${energySavingMode}`);\n",
        "console.log();\n",
        "\n",
        "// YOUR CODE HERE: Write the complete nested conditional algorithm\n",
        "\n",
        "\n",
        "\n",
        "console.log(\"=== Thermostat Action ===\");\n",
        "console.log(`Action: ${action}`);\n",
        "console.log(`Target Temperature: ${targetTemp}°F`);\n",
        "\n",
        "// Test your code with these scenarios:\n",
        "// Scenario 1: currentTemp=78, isHomeOccupied=true, timeOfDay=\"day\", energySavingMode=false\n",
        "//   → action=\"cooling\", targetTemp=72\n",
        "\n",
        "// Scenario 2: currentTemp=66, isHomeOccupied=true, timeOfDay=\"night\", energySavingMode=true\n",
        "//   → action=\"maintaining\", targetTemp=66\n",
        "\n",
        "// Scenario 3: currentTemp=85, isHomeOccupied=false, timeOfDay=\"day\", energySavingMode=true\n",
        "//   → action=\"cooling\", targetTemp=78\n",
        "\n",
        "// Scenario 4: currentTemp=70, isHomeOccupied=false, timeOfDay=\"night\", energySavingMode=false\n",
        "//   → action=\"maintaining\", targetTemp=70"
      ]
    },
    {
      "cell_type": "markdown",
      "metadata": {},
      "source": [
        "## Reflection Questions\n",
        "\n",
        "After completing all three problems, answer these questions:\n",
        "\n",
        "1. Which problem was the most challenging and why?\n",
        "2. How did you decide on the structure of your nested conditionals in Problem 3?\n",
        "3. Can you think of a real-world situation where you would need even MORE levels of nesting than Problem 3?"
      ]
    }
  ],
  "metadata": {
    "kernelspec": {
      "display_name": "Python 3",
      "language": "python",
      "name": "python3"
    },
    "language_info": {
      "codemirror_mode": {
        "name": "ipython",
        "version": 3
      },
      "file_extension": ".py",
      "mimetype": "text/x-python",
      "name": "python",
      "nbconvert_exporter": "python",
      "pygments_lexer": "ipython3",
      "version": "3.8.0"
    }
  },
  "nbformat": 4,
  "nbformat_minor": 4
}
