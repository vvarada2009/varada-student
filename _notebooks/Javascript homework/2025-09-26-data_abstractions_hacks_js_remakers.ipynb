{
 "cells": [
  {
   "cell_type": "code",
   "execution_count": null,
   "id": "e4102f0e",
   "metadata": {},
   "outputs": [],
   "source": [
    "---\n",
    "toc: true\n",
    "comments: false\n",
    "layout: post\n",
    "categories: [CSP Big Idea 3]\n",
    "title: 3.2 Data Abstractions JS Hack\n",
    "author: Jaynee Chauhan, Michelle Ji, Lucas Masterson\n",
    "description: Hack(s) for intro to data abstractions in JS.\n",
    "type: ccc\n",
    "permalink: /csp/big-idea-3/data-abstractions/p4/hacks-js\n",
    "---"
   ]
  },
  {
   "cell_type": "markdown",
   "id": "690b4172",
   "metadata": {},
   "source": [
    "## JS Lab: Library\n",
    "\n",
    "In this lab, similarly to the Python lab, you'll be working on a simple \"database\" for a library to understand CRUD operations in relation to representing redundant, similar data under one structure -- an abstraction.\n",
    "\n",
    "For JavaScript, you'll have to open the web console from Developer Tools (`ctrl + shift + p` -> `Developer: Toggle developer tools`)."
   ]
  },
  {
   "cell_type": "code",
   "execution_count": null,
   "id": "b6d36342",
   "metadata": {},
   "outputs": [],
   "source": []
  },
  {
   "cell_type": "code",
   "execution_count": 10,
   "id": "d7228dda",
   "metadata": {
    "vscode": {
     "languageId": "javascript"
    }
   },
   "outputs": [
    {
     "data": {
      "application/javascript": "\n// Our \"database\" is an array of objects, each representing a book in a library.\n// Arrays allow us to store multiple records in a single variable, making it easy to manage collections of data.\nlet library = [\n   { title: \"1984\", author: \"George Orwell\", checkedOut: false },\n   { title: \"To Kill a Mockingbird\", author: \"Harper Lee\", checkedOut: true },\n   { title: \"The Great Gatsby\", author: \"F. Scott Fitzgerald\", checkedOut: false }\n];\n\n\n// Arrays provide order and allow us to add, remove, or update records efficiently.\n// Each element in the array is an object, which abstracts the details of each book.\n\n\n// Function to display all books\nfunction displayLibrary(lib) {\n   console.log(\"All books in the library:\");\n   lib.forEach((book, i) => {\n       console.log(`Index ${i}:`, book);\n   });\n}\n\n\n// Function to add a new book (students: implement prompt and push logic)\nfunction addBook(lib) {\n   // TODO: Prompt user for title, author, and checkedOut status, then push to library (array)\n   // Use array's push() method to add new books.\n   let title = prompt(\"Enter book title:\");\n   let author = prompt(\"Enter book author:\");\n   let checkedOutInput = prompt(\"Is the book checked out? (yes/no):\");\n   let checkedOut = checkedOutInput.toLowerCase() === \"yes\";\n\n\n   lib.push({ title: title, author: author, checkedOut: checkedOut });\n   console.log(`Book \"${title}\" added to library.`);\n}\n\n\n// Function to find a book by title (students: implement search logic)\nfunction findBook(lib, searchTitle) {\n   // TODO: Search for a book with matching title and print it\n   // You can loop through the array to find the matching object.\n   for (let book of lib) {\n       if (book.title.toLowerCase() === searchTitle.toLowerCase()) {\n           console.log(\"Book found:\", book);\n           return book;\n       }\n   }\n   console.log(`No book found with title \"${searchTitle}\"`);\n   return null;\n}\n\n\n// Function to update a book's checkedOut status (students: implement update logic)\nfunction updateBook(lib, searchTitle) {\n   // TODO: Find book by title and update its checkedOut field\n   // Use array indexing to access and update the object.\n   for (let book of lib) {\n       if (book.title.toLowerCase() === searchTitle.toLowerCase()) {\n           console.log(\"Current book record:\", book);\n           let checkedOutInput = prompt(\"Is the book checked out? (yes/no):\");\n           book.checkedOut = checkedOutInput.toLowerCase() === \"yes\";\n           console.log(\"Book updated:\", book);\n           return;\n       }\n   }\n   console.log(`No book found with title \"${searchTitle}\"`);\n}\n\n\n// Function to delete a book (students: implement delete logic)\nfunction deleteBook(lib, searchTitle) {\n   // TODO: Remove book with matching title from library\n   // Use array methods like splice() to delete a book.\n   for (let i = 0; i < lib.length; i++) {\n       if (lib[i].title.toLowerCase() === searchTitle.toLowerCase()) {\n           lib.splice(i, 1);\n           console.log(`Book \"${searchTitle}\" deleted from library.`);\n           return;\n       }\n   }\n   console.log(`No book found with title \"${searchTitle}\"`);\n}\n\n\n// Example usage\ndisplayLibrary(library);\n// Students: Uncomment and complete the following as you implement\n// addBook(library);\n// findBook(library, \"1984\");\n// updateBook(library, \"To Kill a Mockingbird\");\n// deleteBook(library, \"The Great Gatsby\");\n\n\n\n",
      "text/plain": [
       "<IPython.core.display.Javascript object>"
      ]
     },
     "metadata": {},
     "output_type": "display_data"
    }
   ],
   "source": [
    "%%js\n",
    "\n",
    "// Our \"database\" is an array of objects, each representing a book in a library.\n",
    "// Arrays allow us to store multiple records in a single variable, making it easy to manage collections of data.\n",
    "let library = [\n",
    "   { title: \"1984\", author: \"George Orwell\", checkedOut: false },\n",
    "   { title: \"To Kill a Mockingbird\", author: \"Harper Lee\", checkedOut: true },\n",
    "   { title: \"The Great Gatsby\", author: \"F. Scott Fitzgerald\", checkedOut: false }\n",
    "];\n",
    "\n",
    "\n",
    "// Arrays provide order and allow us to add, remove, or update records efficiently.\n",
    "// Each element in the array is an object, which abstracts the details of each book.\n",
    "\n",
    "\n",
    "// Function to display all books\n",
    "function displayLibrary(lib) {\n",
    "   console.log(\"All books in the library:\");\n",
    "   lib.forEach((book, i) => {\n",
    "       console.log(`Index ${i}:`, book);\n",
    "   });\n",
    "}\n",
    "\n",
    "\n",
    "// Function to add a new book (students: implement prompt and push logic)\n",
    "function addBook(lib) {\n",
    "   // TODO: Prompt user for title, author, and checkedOut status, then push to library (array)\n",
    "   // Use array's push() method to add new books.\n",
    "   let title = prompt(\"Enter book title:\");\n",
    "   let author = prompt(\"Enter book author:\");\n",
    "   let checkedOutInput = prompt(\"Is the book checked out? (yes/no):\");\n",
    "   let checkedOut = checkedOutInput.toLowerCase() === \"yes\";\n",
    "\n",
    "\n",
    "   lib.push({ title: title, author: author, checkedOut: checkedOut });\n",
    "   console.log(`Book \"${title}\" added to library.`);\n",
    "}\n",
    "\n",
    "\n",
    "// Function to find a book by title (students: implement search logic)\n",
    "function findBook(lib, searchTitle) {\n",
    "   // TODO: Search for a book with matching title and print it\n",
    "   // You can loop through the array to find the matching object.\n",
    "   for (let book of lib) {\n",
    "       if (book.title.toLowerCase() === searchTitle.toLowerCase()) {\n",
    "           console.log(\"Book found:\", book);\n",
    "           return book;\n",
    "       }\n",
    "   }\n",
    "   console.log(`No book found with title \"${searchTitle}\"`);\n",
    "   return null;\n",
    "}\n",
    "\n",
    "\n",
    "// Function to update a book's checkedOut status (students: implement update logic)\n",
    "function updateBook(lib, searchTitle) {\n",
    "   // TODO: Find book by title and update its checkedOut field\n",
    "   // Use array indexing to access and update the object.\n",
    "   for (let book of lib) {\n",
    "       if (book.title.toLowerCase() === searchTitle.toLowerCase()) {\n",
    "           console.log(\"Current book record:\", book);\n",
    "           let checkedOutInput = prompt(\"Is the book checked out? (yes/no):\");\n",
    "           book.checkedOut = checkedOutInput.toLowerCase() === \"yes\";\n",
    "           console.log(\"Book updated:\", book);\n",
    "           return;\n",
    "       }\n",
    "   }\n",
    "   console.log(`No book found with title \"${searchTitle}\"`);\n",
    "}\n",
    "\n",
    "\n",
    "// Function to delete a book (students: implement delete logic)\n",
    "function deleteBook(lib, searchTitle) {\n",
    "   // TODO: Remove book with matching title from library\n",
    "   // Use array methods like splice() to delete a book.\n",
    "   for (let i = 0; i < lib.length; i++) {\n",
    "       if (lib[i].title.toLowerCase() === searchTitle.toLowerCase()) {\n",
    "           lib.splice(i, 1);\n",
    "           console.log(`Book \"${searchTitle}\" deleted from library.`);\n",
    "           return;\n",
    "       }\n",
    "   }\n",
    "   console.log(`No book found with title \"${searchTitle}\"`);\n",
    "}\n",
    "\n",
    "\n",
    "// Example usage\n",
    "displayLibrary(library);\n",
    "// Students: Uncomment and complete the following as you implement\n",
    "// addBook(library);\n",
    "// findBook(library, \"1984\");\n",
    "// updateBook(library, \"To Kill a Mockingbird\");\n",
    "// deleteBook(library, \"The Great Gatsby\");\n",
    "\n",
    "\n",
    "\n"
   ]
  }
 ],
 "metadata": {
  "kernelspec": {
   "display_name": "venv",
   "language": "python",
   "name": "python3"
  },
  "language_info": {
   "codemirror_mode": {
    "name": "ipython",
    "version": 3
   },
   "file_extension": ".py",
   "mimetype": "text/x-python",
   "name": "python",
   "nbconvert_exporter": "python",
   "pygments_lexer": "ipython3",
   "version": "3.12.3"
  }
 },
 "nbformat": 4,
 "nbformat_minor": 5
}
