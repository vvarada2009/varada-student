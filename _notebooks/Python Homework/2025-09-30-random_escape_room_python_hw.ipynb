{
 "cells": [
  {
   "cell_type": "raw",
   "id": "6e07d1a7",
   "metadata": {
    "vscode": {
     "languageId": "raw"
    }
   },
   "source": [
    "---\n",
    "layout: post\n",
    "title: \"Escape Room 3.15 - Hacks & Extensions\"\n",
    "description: \"Extended Python challenges and hacks for CSP 3.15 Escape Room - Random Values\"\n",
    "type: hacks\n",
    "toc: true\n",
    "comments: true\n",
    "permalink: /3.15/homework/python\n",
    "author: Team Debuggers\n",
    "---\n"
   ]
  },
  {
   "cell_type": "markdown",
   "id": "9f874417",
   "metadata": {},
   "source": [
    "# 🚀 Escape Room Python Hacks\n"
   ]
  },
  {
   "cell_type": "markdown",
   "id": "7aedbe34",
   "metadata": {},
   "source": [
    "1. Simulate rolling two dice and show all possible sums of their outcomes."
   ]
  },
  {
   "cell_type": "code",
   "execution_count": null,
   "id": "a73638bf",
   "metadata": {},
   "outputs": [],
   "source": [
    "# 🎲 Die faces: 1, 2, 3, 4, 5, 6\n",
    "# TODO: Write code to calculate and display all possible sums\n",
    "# Hint: You may need two nested loops\n"
   ]
  },
  {
   "cell_type": "markdown",
   "id": "323ac43a",
   "metadata": {},
   "source": [
    "2. Create a fortune teller program. The response \"Try Again\" should appear 40% of the time, while the other possible responses are \"Yes\", \"No\", and \"Maybe\"."
   ]
  },
  {
   "cell_type": "code",
   "execution_count": null,
   "id": "c608c7e8",
   "metadata": {},
   "outputs": [],
   "source": [
    "import random\n",
    "\n",
    "# 🔮 Fortune Teller\n",
    "# TODO: Generate a random number between 1 and 100\n",
    "\n",
    "if num <= /* fill in */:\n",
    "    print(\"Try Again\")\n",
    "elif num <= /* fill in */:\n",
    "    print(\"Yes\")\n",
    "elif num <= /* fill in */:\n",
    "    print(\"No\")\n",
    "else:\n",
    "    print(\"Maybe\")\n"
   ]
  },
  {
   "cell_type": "markdown",
   "id": "f5f6ad02",
   "metadata": {},
   "source": [
    "3. Create a program that randomly selects a meal from a menu list. For example: \"Pizza\", \"Burger\", \"Salad\", \"Pasta\", \"Sushi\"."
   ]
  },
  {
   "cell_type": "code",
   "execution_count": null,
   "id": "623d5cec",
   "metadata": {},
   "outputs": [],
   "source": [
    "import random\n",
    "\n",
    "# 🍔 Menu list of meals\n",
    "meals = [/* add your meals here */]\n",
    "\n",
    "# TODO: Pick one random meal from the list\n"
   ]
  },
  {
   "cell_type": "markdown",
   "id": "e230199d",
   "metadata": {},
   "source": [
    "4. Practice using random.choice() and random.shuffle().\n",
    "\n",
    "- Use random.choice() to select one random card from a deck.\n",
    "\n",
    "- Use random.shuffle() to shuffle the entire deck."
   ]
  },
  {
   "cell_type": "code",
   "execution_count": null,
   "id": "9efcd451",
   "metadata": {},
   "outputs": [],
   "source": [
    "import random\n",
    "\n",
    "# 🃏 Deck of cards (simplified as numbers 1–10 for this example)\n",
    "deck = [1,2,3,4,5,6,7,8,9,10]\n",
    "\n",
    "# TODO: Use random.choice() to pick one card\n",
    "# TODO: Use random.shuffle() to shuffle the deck and print it\n"
   ]
  }
 ],
 "metadata": {
  "kernelspec": {
   "display_name": "venv (3.12.3)",
   "language": "python",
   "name": "python3"
  },
  "language_info": {
   "name": "python",
   "version": "3.12.3"
  }
 },
 "nbformat": 4,
 "nbformat_minor": 5
}
