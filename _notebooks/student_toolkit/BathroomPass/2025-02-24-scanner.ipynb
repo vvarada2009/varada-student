{
 "cells": [
  {
   "cell_type": "raw",
   "metadata": {
    "vscode": {
     "languageId": "raw"
    }
   },
   "source": [
    "---\n",
    "layout: bathroom/scanner\n",
    "title: Scanner\n",
    "permalink: /bathroom/scanner\n",
    "toc: false\n",
    "---"
   ]
  }
 ],
 "metadata": {
  "language_info": {
   "name": "python"
  }
 },
 "nbformat": 4,
 "nbformat_minor": 2
}
