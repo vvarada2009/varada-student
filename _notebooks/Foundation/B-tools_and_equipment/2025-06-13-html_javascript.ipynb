{
 "cells": [
  {
   "cell_type": "code",
   "execution_count": null,
   "id": "edc9c167",
   "metadata": {
    "vscode": {
     "languageId": "yaml"
    }
   },
   "outputs": [],
   "source": [
    "---\n",
    "layout: post\n",
    "title: HTML and JavaScript Lesson\n",
    "description: This page will teach you the basics of HTML and JavaScript.\n",
    "categories: ['HTML', 'JavaScript']\n",
    "permalink: /lessons/htmljs\n",
    "---"
   ]
  },
  {
   "cell_type": "markdown",
   "id": "79a44453",
   "metadata": {},
   "source": [
    "## HTML Basics\n",
    "\n",
    "HTML (HyperText Markup Language) gives structure to your content. It's the standard language used to create webpages.\n",
    "\n",
    "> 💡 In Markdown (which you're using in `.md` files via fastpages), you can do many similar things with simpler syntax. Here's how HTML compares and expands on that.\n",
    "\n",
    "### Headings, Paragraphs, and Emphasis\n",
    "\n",
    "Markdown:\n",
    "\n",
    "```markdown\n",
    "# Welcome to My Web Page\n",
    "This page uses **HTML** to display content and *JavaScript* to make it fun!\n",
    "```\n",
    "\n",
    "HTML:\n",
    "\n",
    "```html\n",
    "<h1>Welcome to My Web Page</h1>\n",
    "<p>This page uses <b>HTML</b> to display content and <i>JavaScript</i> to make it fun!</p>\n",
    "```\n",
    "\n",
    "### Links and Lists\n",
    "\n",
    "Markdown:\n",
    "\n",
    "```markdown\n",
    "[Visit MDN Web Docs](https://developer.mozilla.org)\n",
    "\n",
    "- Learn HTML\n",
    "- Practice JavaScript\n",
    "- Have fun coding\n",
    "```\n",
    "\n",
    "HTML:\n",
    "\n",
    "```html\n",
    "<a href=\"https://developer.mozilla.org\">Visit MDN Web Docs</a>\n",
    "\n",
    "<ul>\n",
    "  <li>Learn HTML</li>\n",
    "  <li>Practice JavaScript</li>\n",
    "  <li>Have fun coding</li>\n",
    "</ul>\n",
    "```"
   ]
  },
  {
   "cell_type": "markdown",
   "id": "ecfd8b66",
   "metadata": {},
   "source": [
    "| Feature        | Markdown Syntax                            | HTML Syntax                                 |\n",
    "| -------------- | ------------------------------------------ | ------------------------------------------- |\n",
    "| Heading 1      | `# Heading`                                | `<h1>Heading</h1>`                          |\n",
    "| Heading 2      | `## Subheading`                            | `<h2>Subheading</h2>`                       |\n",
    "| Bold           | `**bold**` or `__bold__`                   | `<b>bold</b>` or `<strong>bold</strong>`    |\n",
    "| Italic         | `*italic*` or `_italic_`                   | `<i>italic</i>` or `<em>italic</em>`        |\n",
    "| Link           | `[OpenAI](https://openai.com)`             | `<a href=\"https://openai.com\">OpenAI</a>`   |\n",
    "| Image          | `![Alt](image.png)`                        | `<img src=\"image.png\" alt=\"Alt\">`           |\n",
    "| Unordered List | `- Item` or `* Item`                       | `<ul><li>Item</li></ul>`                    |\n",
    "| Ordered List   | `1. First`                                 | `<ol><li>First</li></ol>`                   |\n",
    "| Paragraph      | *blank line between text*                  | `<p>Paragraph</p>`                          |\n",
    "| Line Break     | `&nbsp;` or two spaces then Enter          | `<br>`                                      |\n",
    "| Code (inline)  | `` `code` ``                               | `<code>code</code>`                         |\n",
    "| Code Block     | <code>`js<br>console.log('hi')<br>`</code> | `<pre><code>console.log('hi')</code></pre>` |\n"
   ]
  },
  {
   "cell_type": "markdown",
   "id": "1308365a",
   "metadata": {},
   "source": [
    "---"
   ]
  }
 ],
 "metadata": {
  "kernelspec": {
   "display_name": "venv",
   "language": "python",
   "name": "python3"
  },
  "language_info": {
   "codemirror_mode": {
    "name": "ipython",
    "version": 3
   },
   "file_extension": ".py",
   "mimetype": "text/x-python",
   "name": "python",
   "nbconvert_exporter": "python",
   "pygments_lexer": "ipython3",
   "version": "3.12.3"
  }
 },
 "nbformat": 4,
 "nbformat_minor": 5
}
