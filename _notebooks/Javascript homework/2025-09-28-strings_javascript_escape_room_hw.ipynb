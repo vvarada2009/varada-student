{
 "cells": [
  {
   "cell_type": "code",
   "execution_count": null,
   "id": "fe074a11",
   "metadata": {},
   "outputs": [],
   "source": [
    "---\n",
    "toc: true\n",
    "layout: post\n",
    "categories: [JavaScript]\n",
    "permalink: /javascript/string/hw/\n",
    "author: \"Escape room \n",
    "---\n"
   ]
  },
  {
   "cell_type": "code",
   "execution_count": 3,
   "id": "9087d7af",
   "metadata": {},
   "outputs": [
    {
     "name": "stdout",
     "output_type": "stream",
     "text": [
      "🎯 JavaScript String Basics - Free-Response Quiz\n",
      "Type your answers below.\n",
      "\n",
      "✅ Q1: CORRECT\n",
      "✅ Q2: CORRECT\n",
      "✅ Q3: CORRECT\n",
      "✅ Q4: CORRECT\n",
      "✅ Q5: CORRECT\n",
      "✅ Q6: CORRECT\n",
      "========================================\n",
      "🎯 Your Score: 6/6\n",
      "📈 Percentage: 100.0%\n"
     ]
    }
   ],
   "source": [
    "print(\"🎯 JavaScript String Basics - Free-Response Quiz\")\n",
    "print(\"Type your answers below.\\n\")\n",
    "\n",
    "score = 0\n",
    "total = 6\n",
    "\n",
    "# Q1\n",
    "a1 = input(\"1. In JavaScript, which property is used to get the length of a string?\\n> \").strip().lower()\n",
    "if a1 == 'length' or a1.endswith('.length'):\n",
    "    score += 1\n",
    "    print(\"✅ Q1: CORRECT\")\n",
    "else:\n",
    "    print(\"❌ Q1: INCORRECT - Expected: length (property)\")\n",
    "\n",
    "# Q2\n",
    "a2 = input('2. Which expression can concatenate two strings?\\n> ').strip().replace(\" \", \"\")\n",
    "if '+' in a2:\n",
    "    score += 1\n",
    "    print(\"✅ Q2: CORRECT\")\n",
    "else:\n",
    "    print('❌ Q2: INCORRECT - Example: \"Hello\" + \"World\" (use +)')\n",
    "\n",
    "# Q3\n",
    "a3 = input(\"3. What does 'JavaScript'.substring(0, 4) return?\\n> \").strip().strip('\"').strip(\"'\").lower()\n",
    "if a3 == 'java':\n",
    "    score += 1\n",
    "    print(\"✅ Q3: CORRECT\")\n",
    "else:\n",
    "    print(\"❌ Q3: INCORRECT - Correct: Java\")\n",
    "\n",
    "# Q4\n",
    "a4 = input(\"4. Which method converts a string to uppercase?\\n> \").strip().lower().replace(\"()\", \"\").replace(\"_\",\"\")\n",
    "if a4 == 'touppercase':\n",
    "    score += 1\n",
    "    print(\"✅ Q4: CORRECT\")\n",
    "else:\n",
    "    print(\"❌ Q4: INCORRECT - Correct: toUpperCase()\")\n",
    "\n",
    "# Q5\n",
    "a5 = input(\"5. String indexes start at 1 in JavaScript (True/False)\\n> \").strip().lower()\n",
    "if a5 in {'false', 'f'}:\n",
    "    score += 1\n",
    "    print(\"✅ Q5: CORRECT\")\n",
    "else:\n",
    "    print(\"❌ Q5: INCORRECT - Correct: False (indexes start at 0)\")\n",
    "\n",
    "# Q6\n",
    "a6 = input(\"6. 'hello'.length returns 5 (True/False)\\n> \").strip().lower()\n",
    "if a6 in {'true', 't'}:\n",
    "    score += 1\n",
    "    print(\"✅ Q6: CORRECT\")\n",
    "else:\n",
    "    print(\"❌ Q6: INCORRECT - Correct: True\")\n",
    "\n",
    "print(\"=\"*40)\n",
    "print(f\"🎯 Your Score: {score}/{total}\")\n",
    "print(f\"📈 Percentage: {score/total*100:.1f}%\")\n"
   ]
  }
 ],
 "metadata": {
  "kernelspec": {
   "display_name": "venv",
   "language": "python",
   "name": "python3"
  },
  "language_info": {
   "codemirror_mode": {
    "name": "ipython",
    "version": 3
   },
   "file_extension": ".py",
   "mimetype": "text/x-python",
   "name": "python",
   "nbconvert_exporter": "python",
   "pygments_lexer": "ipython3",
   "version": "3.12.3"
  }
 },
 "nbformat": 4,
 "nbformat_minor": 5
}
