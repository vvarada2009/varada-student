{
 "cells": [
  {
   "cell_type": "markdown",
   "id": "cbbfb22c",
   "metadata": {},
   "source": [
    "---\n",
    "layout: post\n",
    "title: \"Escape Room 3.15 - Hack\"\n",
    "description: \"Extended Javascript challenges and hacks for CSP 3.15 Escape Room - Random Values\"\n",
    "type: hacks\n",
    "toc: true\n",
    "comments: true\n",
    "permalink: /3.15/homework/javascript\n",
    "author: Team Debuggers\n",
    "---"
   ]
  },
  {
   "cell_type": "markdown",
   "id": "9f78ed1b",
   "metadata": {},
   "source": [
    "# 🚀 Escape Room Javascript Hacks"
   ]
  },
  {
   "cell_type": "markdown",
   "id": "8272187c",
   "metadata": {
    "vscode": {
     "languageId": "javascript"
    }
   },
   "source": [
    "1. Simulate drawing two random cards, where each card has a value between 1 and 10. Show the two card values and their total.\n"
   ]
  },
  {
   "cell_type": "code",
   "execution_count": null,
   "id": "78a936d8",
   "metadata": {
    "vscode": {
     "languageId": "javascript"
    }
   },
   "outputs": [],
   "source": [
    "// 🎴 Simulate drawing two random cards between 1 and 10\n",
    "\n",
    "// TODO: Generate a random value between 1 and 10 for the first card\n",
    "let card1 = /* your code here */;\n",
    "\n",
    "// TODO: Generate a random value between 1 and 10 for the second card\n",
    "let card2 = /* your code here */;\n",
    "\n",
    "// TODO: Add the two card values together\n",
    "let total = /* your code here */;\n",
    "\n",
    "// TODO: Print out the results\n",
    "console.log(\"Card 1:\", /* your code here */);\n",
    "console.log(\"Card 2:\", /* your code here */);\n",
    "console.log(\"Total:\", /* your code here */);\n"
   ]
  },
  {
   "cell_type": "markdown",
   "id": "1d1e615b",
   "metadata": {},
   "source": [
    "2. Create a decision maker where \"Definitely\" appears 30% of the time"
   ]
  },
  {
   "cell_type": "code",
   "execution_count": null,
   "id": "ccb86ba7",
   "metadata": {
    "vscode": {
     "languageId": "javascript"
    }
   },
   "outputs": [],
   "source": [
    "// 🎲 Decision Maker\n",
    "// Goal: \"Definitely\" should appear about 30% of the time when you run this code\n",
    "\n",
    "// TODO: Generate a random number between 1 and 100\n",
    "let rand = /* your code here */;\n",
    "\n",
    "// TODO: Use an if statement to make \"Definitely\" appear 30% of the time\n",
    "if (/* your condition here */) {\n",
    "  console.log(\"Definitely\");\n",
    "} else {\n",
    "  console.log(\"Not this time\");\n",
    "}\n"
   ]
  },
  {
   "cell_type": "markdown",
   "id": "3a1307fb",
   "metadata": {},
   "source": [
    "3. Simulate one coin flip and one dice roll.\n",
    "\n",
    "- The coin flip should be 0 = Heads or 1 = Tails.\n",
    "\n",
    "- The dice roll should be a number between 1 and 6.\n",
    "\n",
    "- Print out both results."
   ]
  },
  {
   "cell_type": "code",
   "execution_count": null,
   "id": "5757bb69",
   "metadata": {
    "vscode": {
     "languageId": "javascript"
    }
   },
   "outputs": [],
   "source": [
    "// 🪙 Simulate one coin flip and one dice roll\n",
    "\n",
    "// TODO: Generate a random value 0 or 1 for the coin\n",
    "let coin = /* your code here */;\n",
    "\n",
    "// TODO: Print out the coin flip result\n",
    "console.log(\"Coin flip:\", /* your code here */);\n",
    "\n",
    "// TODO: Generate a random value between 1 and 6 for the dice\n",
    "let dice = /* your code here */;\n",
    "\n",
    "// TODO: Print out the dice roll result\n",
    "console.log(\"Dice roll:\", /* your code here */);\n"
   ]
  },
  {
   "cell_type": "markdown",
   "id": "8b49e277",
   "metadata": {},
   "source": [
    "4. Write code that randomly picks one fortune from a list of 5 possible fortunes and prints it out."
   ]
  },
  {
   "cell_type": "code",
   "execution_count": null,
   "id": "dd613a02",
   "metadata": {
    "vscode": {
     "languageId": "javascript"
    }
   },
   "outputs": [],
   "source": [
    "// 🔮 Random Fortune Generator\n",
    "\n",
    "// TODO: Make a list (array) of fortunes\n",
    "let fortunes = [/* your 5 fortunes here */];\n",
    "\n",
    "// TODO: Pick a random index\n",
    "let index = /* your code here */;\n",
    "\n",
    "// TODO: Print out the fortune at that index\n",
    "console.log(\"Your fortune:\", fortunes[index]);\n"
   ]
  }
 ],
 "metadata": {
  "language_info": {
   "name": "python"
  }
 },
 "nbformat": 4,
 "nbformat_minor": 5
}
