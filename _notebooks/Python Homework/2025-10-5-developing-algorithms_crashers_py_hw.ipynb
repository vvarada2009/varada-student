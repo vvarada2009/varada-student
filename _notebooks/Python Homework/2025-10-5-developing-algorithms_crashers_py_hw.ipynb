{
 "cells": [
  {
   "cell_type": "raw",
   "id": "42164604",
   "metadata": {
    "vscode": {
     "languageId": "raw"
    }
   },
   "source": [
    "---\n",
    "layout: post\n",
    "title: Crashers - 3.9 Developing Algorithms Python Hacks\n",
    "categories: [Python]\n",
    "tags: [python, javascript, variables, assignment, beginner]\n",
    "description: Learn how to develop algorithms through the Peppa Pig Maze game\n",
    "permalink: /python/developing-algorithms/crashers-hw\n",
    "---"
   ]
  },
  {
   "cell_type": "markdown",
   "id": "1b790d25",
   "metadata": {},
   "source": [
    "# 🐷 Peppa's Algorithm Adventures - Python Hacks\n",
    "\n",
    "Welcome to Peppa's algorithm challenges! Complete these three hacks to master algorithm development with interactive Python examples."
   ]
  },
  {
   "cell_type": "markdown",
   "id": "9a0836d7",
   "metadata": {},
   "source": [
    "## Hack 1: Peppa's Number Comparison Algorithm \udd22\n",
    "\n",
    "Create algorithms that use Boolean expressions to compare numbers, just like in the lesson!\n",
    "\n",
    "**Your task:** Complete the missing Boolean conditions to help Peppa make smart decisions."
   ]
  },
  {
   "cell_type": "code",
   "execution_count": 1,
   "id": "b6101dc7",
   "metadata": {},
   "outputs": [
    {
     "name": "stdout",
     "output_type": "stream",
     "text": [
      "=== Testing Maximum Algorithms ===\n",
      "Algorithm A result: 10\n",
      "Algorithm B result: 10\n",
      "\n",
      "=== Peppa's Decision ===\n",
      "Peppa's Decision Algorithm\n",
      "Peppa has 15 coins\n",
      "Toy costs 12 coins\n",
      "Peppa can buy the toy!\n"
     ]
    },
    {
     "data": {
      "text/plain": [
       "True"
      ]
     },
     "execution_count": 1,
     "metadata": {},
     "output_type": "execute_result"
    }
   ],
   "source": [
    "# Peppa's number comparison algorithms (like the lesson examples!)\n",
    "\n",
    "def algorithm_a_find_maximum(a, b):\n",
    "    \"\"\"Algorithm A: Find the larger number using if-else\"\"\"\n",
    "    if a > b:\n",
    "        return a\n",
    "    else:\n",
    "        return b\n",
    "\n",
    "def algorithm_b_find_maximum(a, b):\n",
    "    \"\"\"Algorithm B: Same problem, different approach using Boolean expression\"\"\"\n",
    "    return a if a > b else b  \n",
    "\n",
    "def peppa_decision_maker():\n",
    "    \"\"\"Help Peppa make decisions using Boolean logic\"\"\"\n",
    "    \n",
    "    peppa_coins = 15\n",
    "    toy_price = 12\n",
    "    \n",
    "    print(\"Peppa's Decision Algorithm\")\n",
    "    print(f\"Peppa has {peppa_coins} coins\")\n",
    "    print(f\"Toy costs {toy_price} coins\")\n",
    "    \n",
    "    can_buy_toy = peppa_coins >= toy_price  \n",
    "    \n",
    "    if can_buy_toy:\n",
    "        print(\"Peppa can buy the toy!\")\n",
    "    else:\n",
    "        print(\"Peppa needs more coins!\")\n",
    "    \n",
    "    return can_buy_toy\n",
    "\n",
    "# Test the algorithms (like the lesson does)\n",
    "print(\"=== Testing Maximum Algorithms ===\")\n",
    "x, y = 10, 7\n",
    "print(f\"Algorithm A result: {algorithm_a_find_maximum(x, y)}\")\n",
    "print(f\"Algorithm B result: {algorithm_b_find_maximum(x, y)}\")\n",
    "\n",
    "print(\"\\n=== Peppa's Decision ===\")\n",
    "peppa_decision_maker()\n"
   ]
  },
  {
   "cell_type": "markdown",
   "id": "296246f9",
   "metadata": {},
   "source": [
    "## Hack 2: George's Simple Movement Algorithm \udfae\n",
    "\n",
    "Create a simple movement algorithm like the maze example from the lesson!\n",
    "\n",
    "**Your task:** Complete the Boolean conditions to control George's movement."
   ]
  },
  {
   "cell_type": "code",
   "execution_count": 2,
   "id": "f40f544d",
   "metadata": {},
   "outputs": [
    {
     "name": "stdout",
     "output_type": "stream",
     "text": [
      "George's Movement Algorithm\n",
      "George is at position (2, 1)\n",
      "Boundaries: x(0-4), y(0-3)\n",
      "\n",
      "--- Testing Movement ---\n",
      "Move right to (3, 1): Valid\n",
      "Move up to (2, 2): Valid\n",
      "Move left to (1, 1): Valid\n",
      "\n",
      "Interactive Movement Test\n",
      "George moved up to (1, 2)\n"
     ]
    }
   ],
   "source": [
    "# George's movement algorithm (similar to the lesson's maze example)\n",
    "\n",
    "def george_movement_algorithm():\n",
    "    \"\"\"Simple movement system using Boolean conditions\"\"\"\n",
    "    \n",
    "    # George's current position\n",
    "    george_x = 2\n",
    "    george_y = 1\n",
    "    \n",
    "    # Boundary limits (like the maze example)\n",
    "    max_x = 4\n",
    "    max_y = 3\n",
    "    min_x = 0\n",
    "    min_y = 0\n",
    "    \n",
    "    print(\"George's Movement Algorithm\")\n",
    "    print(f\"George is at position ({george_x}, {george_y})\")\n",
    "    print(f\"Boundaries: x(0-{max_x}), y(0-{max_y})\")\n",
    "    \n",
    "    # Movement commands\n",
    "    print(\"\\n--- Testing Movement ---\")\n",
    "    \n",
    "    # Try moving right\n",
    "    new_x = george_x + 1\n",
    "    can_move_right = new_x <= max_x  # Check if within right boundary\n",
    "    print(f\"Move right to ({new_x}, {george_y}): {'Valid' if can_move_right else 'Invalid'}\")\n",
    "    \n",
    "    # Try moving up  \n",
    "    new_y = george_y + 1\n",
    "    can_move_up = new_y <= max_y  # Check if within top boundary\n",
    "    print(f\"Move up to ({george_x}, {new_y}): {'Valid' if can_move_up else 'Invalid'}\")\n",
    "    \n",
    "    # Try moving left\n",
    "    new_x = george_x - 1\n",
    "    can_move_left = new_x >= min_x  # Check if within left boundary\n",
    "    print(f\"Move left to ({new_x}, {george_y}): {'Valid' if can_move_left else 'Invalid'}\")\n",
    "\n",
    "\n",
    "def interactive_movement():\n",
    "    \"\"\"Let user test the movement algorithm\"\"\"\n",
    "    print(\"\\nInteractive Movement Test\")\n",
    "    \n",
    "    x, y = 1, 1  # Starting position\n",
    "    \n",
    "    direction = input(\"Which way should George move? (up/down/left/right): \").lower()\n",
    "    \n",
    "    if direction == \"right\":\n",
    "        new_x, new_y = x + 1, y\n",
    "    elif direction == \"left\":\n",
    "        new_x, new_y = x - 1, y\n",
    "    elif direction == \"up\":\n",
    "        new_x, new_y = x, y + 1\n",
    "    elif direction == \"down\":\n",
    "        new_x, new_y = x, y - 1\n",
    "    else:\n",
    "        print(\"Invalid direction!\")\n",
    "        return\n",
    "    \n",
    "    # Boundary check\n",
    "    is_valid_move = (0 <= new_x <= 4) and (0 <= new_y <= 3)\n",
    "    \n",
    "    if is_valid_move:\n",
    "        print(f\"George moved {direction} to ({new_x}, {new_y})\")\n",
    "    else:\n",
    "        print(f\"Can't move {direction} - out of bounds!\")\n",
    "\n",
    "\n",
    "# Run the algorithms\n",
    "george_movement_algorithm()\n",
    "interactive_movement()\n"
   ]
  },
  {
   "cell_type": "markdown",
   "id": "c0991357",
   "metadata": {},
   "source": [
    "## Hack 3: Peppa's Pathfinding Adventure 🗺️\n",
    "\n",
    "Create a pathfinding algorithm to help Peppa navigate through different terrains to reach her friends! This combines Boolean logic, conditional statements, and algorithm design.\n",
    "\n",
    "**Your task:** Implement different pathfinding strategies and compare their effectiveness using interactive visualizations."
   ]
  },
  {
   "cell_type": "code",
   "execution_count": 3,
   "id": "ec0a3c2d",
   "metadata": {},
   "outputs": [
    {
     "name": "stdout",
     "output_type": "stream",
     "text": [
      "Welcome to Peppa's Mini Maze!\n",
      "\n",
      "Peppa's Maze:\n",
      "S #  \n",
      "  # #\n",
      " #   \n",
      "   # \n",
      "#   G\n",
      "Path found!\n",
      "\n",
      "Peppa's Maze:\n",
      ". #  \n",
      "..# #\n",
      " #.  \n",
      "  .# \n",
      "# ...\n",
      "Path length: 8 steps\n"
     ]
    }
   ],
   "source": [
    "# Simple maze pathfinding\n",
    "def peppa_maze_pathfinder():\n",
    "    \"\"\"Help Peppa find her way through a simple maze\"\"\"\n",
    "    \n",
    "    # Simple 5x5 maze: 0=path, 1=wall, 2=start, 3=goal\n",
    "    maze = [\n",
    "        [2, 0, 1, 0, 0],\n",
    "        [0, 0, 1, 0, 1], \n",
    "        [0, 1, 0, 0, 0],\n",
    "        [0, 0, 0, 1, 0],\n",
    "        [1, 0, 0, 0, 3]\n",
    "    ]\n",
    "    \n",
    "    def display_maze(path=None):\n",
    "        symbols = {0: \" \", 1: \"#\", 2: \"S\", 3: \"G\"}\n",
    "        print(\"\\nPeppa's Maze:\")\n",
    "        for r in range(5):\n",
    "            row = \"\"\n",
    "            for c in range(5):\n",
    "                if path and (r, c) in path:\n",
    "                    row += \".\"  # Path marked with dot\n",
    "                else:\n",
    "                    row += symbols[maze[r][c]]\n",
    "            print(row)\n",
    "    \n",
    "    def is_valid_move(row, col):\n",
    "        \"\"\"\n",
    "        Return True if move is valid: inside bounds and not a wall\n",
    "        \"\"\"\n",
    "        if 0 <= row < 5 and 0 <= col < 5 and maze[row][col] != 1:\n",
    "            return True\n",
    "        return False\n",
    "    \n",
    "    def find_path():\n",
    "        \"\"\"Simple pathfinding from start to goal\"\"\"\n",
    "        start = (0, 0)  # Peppa's position\n",
    "        goal = (4, 4)   # Friend's position\n",
    "        \n",
    "        # Sample path (for demonstration)\n",
    "        sample_path = [(0,0), (1,0), (1,1), (2,1), (2,2), (3,2), (4,2), (4,3), (4,4)]\n",
    "        \n",
    "        # Validate the path\n",
    "        valid_path = []\n",
    "        for pos in sample_path:\n",
    "            if is_valid_move(pos[0], pos[1]):\n",
    "                valid_path.append(pos)\n",
    "        \n",
    "        return valid_path if len(valid_path) > 5 else None\n",
    "    \n",
    "    # Run the pathfinder\n",
    "    print(\"Welcome to Peppa's Mini Maze!\")\n",
    "    display_maze()\n",
    "    \n",
    "    path = find_path()\n",
    "    if path:\n",
    "        print(\"Path found!\")\n",
    "        display_maze(path)\n",
    "        print(f\"Path length: {len(path)} steps\")\n",
    "    else:\n",
    "        print(\"No valid path found. Check your is_valid_move function.\")\n",
    "\n",
    "# Run the maze solver\n",
    "peppa_maze_pathfinder()\n"
   ]
  },
  {
   "cell_type": "markdown",
   "id": "2c65c301",
   "metadata": {},
   "source": [
    "## 📝 What You Should Complete\n",
    "\n",
    "**After finishing the lesson, you should be able to:**\n",
    "\n",
    "1. **Hack 1**: Fill in the Boolean comparison operators (`<=`, `>=`, `<`, `>`) to make the muddy puddle validator work\n",
    "2. **Hack 2**: Complete the `if/elif/else` statements for George's number comparison\n",
    "3. **Hack 3**: Fill in the boundary conditions for George's movement algorithm\n",
    "\n",
    "\n"
   ]
  }
 ],
 "metadata": {
  "kernelspec": {
   "display_name": "Python 3",
   "language": "python",
   "name": "python3"
  },
  "language_info": {
   "codemirror_mode": {
    "name": "ipython",
    "version": 3
   },
   "file_extension": ".py",
   "mimetype": "text/x-python",
   "name": "python",
   "nbconvert_exporter": "python",
   "pygments_lexer": "ipython3",
   "version": "3.12.3"
  }
 },
 "nbformat": 4,
 "nbformat_minor": 5
}
