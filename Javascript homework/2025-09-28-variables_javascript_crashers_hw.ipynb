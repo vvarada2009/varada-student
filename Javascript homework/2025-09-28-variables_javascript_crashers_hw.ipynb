{
 "cells": [
  {
   "cell_type": "raw",
   "id": "f7d70aa2",
   "metadata": {
    "vscode": {
     "languageId": "raw"
    }
   },
   "source": [
    "---\n",
    "layout: post\n",
    "title: \"3.1 Variables & Assignments hacks\"\n",
    "categories: [Programming Fundamentals, Tutorial]\n",
    "tags: [python, javascript, variables, assignment, beginner]\n",
    "description: Apply your understanding of Variables & Assignments with these hacks\n",
    "author: Aditya Srivastava, Laya Balaji\n",
    "permalink: /javascript/variables/crashers-hw\n",
    "---"
   ]
  },
  {
   "cell_type": "markdown",
   "id": "ce56910b",
   "metadata": {},
   "source": [
    "# 🐷 Peppa Maze Variables & Assignments Hacks\n",
    "Welcome to the Peppa Maze hacks! These challenges will test your understanding of variables, assignments, and logic in Javascript. Read each task, then write or modify code to solve it."
   ]
  },
  {
   "cell_type": "markdown",
   "id": "7dee3bb5",
   "metadata": {},
   "source": [
    "## Hack 1: JavaScript - Variable Assignment, Naming, and Operators\n",
    "Create variables for Peppa's name, score, and level using good JavaScript naming conventions. Assign initial values, then use operators to update score (add 10) and level (multiply by 2). Print all results."
   ]
  },
  {
   "cell_type": "code",
   "execution_count": null,
   "id": "e4bee113",
   "metadata": {
    "vscode": {
     "languageId": "javascript"
    }
   },
   "outputs": [],
   "source": [
    "// Write your code here\n",
    "// Create variables for Peppa's name, score, and level\n",
    "let peppaName = \"Peppa\";\n",
    "let peppaScore = 50;\n",
    "let peppaLevel = 3;\n",
    "\n",
    "// Use operators to update score and level\n",
    "peppaScore = peppaScore + 10;   // add 10 to score\n",
    "peppaLevel = peppaLevel * 2;    // multiply level by 2\n",
    "\n",
    "// Print all results\n",
    "console.log(\"Name:\", peppaName);\n",
    "console.log(\"Score:\", peppaScore);\n",
    "console.log(\"Level:\", peppaLevel);\n"
   ]
  },
  {
   "cell_type": "markdown",
   "id": "3f8a5cbe",
   "metadata": {},
   "source": [
    "## Hack 2: JavaScript - Variable Declaration, Assignment, and Operators\n",
    "Declare variables for Peppa and George's scores using good JavaScript naming conventions. Assign initial values, then use operators to update both scores (e.g., Peppa gets 15 points, George loses 5 points). Print both scores."
   ]
  },
  {
   "cell_type": "code",
   "execution_count": null,
   "id": "c4c80df3",
   "metadata": {
    "vscode": {
     "languageId": "javascript"
    }
   },
   "outputs": [],
   "source": [
    "// Write your code here\n",
    "// Declare variables for Peppa and George's scores\n",
    "let peppaScore = 50;\n",
    "let georgeScore = 40;\n",
    "\n",
    "// Use operators to update both scores\n",
    "peppaScore = peppaScore + 15;   // Peppa gains 15 points\n",
    "georgeScore = georgeScore - 5;  // George loses 5 points\n",
    "\n",
    "// Print both scores\n",
    "console.log(\"Peppa's Score:\", peppaScore);\n",
    "console.log(\"George's Score:\", georgeScore);\n"
   ]
  },
  {
   "cell_type": "markdown",
   "id": "30580c24",
   "metadata": {},
   "source": [
    "## Hack 3: JavaScript - Multiple Assignment and Math Operators\n",
    "Peppa and George both start at level 1. Use a single line to assign both their levels to 5. Then, calculate a combined score by multiplying their levels together and multiplying by 10. Print all results."
   ]
  },
  {
   "cell_type": "code",
   "execution_count": null,
   "id": "67774ff3",
   "metadata": {
    "vscode": {
     "languageId": "javascript"
    }
   },
   "outputs": [],
   "source": [
    "// let peppaLevel = 1, georgeLevel = 1;\n",
    "let peppaLevel = 1, georgeLevel = 1;\n",
    "\n",
    "// Assign both levels to 5 in one line\n",
    "peppaLevel = georgeLevel = 5;\n",
    "\n",
    "// Calculate combinedScore = peppaLevel * georgeLevel * 10\n",
    "let combinedScore = peppaLevel * georgeLevel * 10;\n",
    "\n",
    "// Print all results\n",
    "console.log(\"Peppa's Level:\", peppaLevel);\n",
    "console.log(\"George's Level:\", georgeLevel);\n",
    "console.log(\"Combined Score:\", combinedScore);\n"
   ]
  }
 ],
 "metadata": {
  "kernelspec": {
   "display_name": "Python 3",
   "language": "python",
   "name": "python3"
  },
  "language_info": {
   "name": "python",
   "version": "3.12.3"
  }
 },
 "nbformat": 4,
 "nbformat_minor": 5
}
