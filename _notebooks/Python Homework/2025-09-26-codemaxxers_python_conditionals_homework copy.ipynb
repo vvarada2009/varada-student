{
 "cells": [
  {
   "cell_type": "raw",
   "id": "4aea221d",
   "metadata": {
    "vscode": {
     "languageId": "raw"
    }
   },
   "source": [
    "---\n",
    "title: \"Conditionals in Javascript and Python - Hacks\"\n",
    "description: \"Apply your skills to basic algorithmic design with conditionals.\"\n",
    "layout: post\n",
    "permalink: /csp/CodeMaxxers/conditionals/p4/hacks-python\n",
    "---\n"
   ]
  },
  {
   "cell_type": "markdown",
   "id": "7ad8e13c",
   "metadata": {},
   "source": [
    "\n",
    "# 🚀 CSP 3.6 Hacks — Conditionals \n",
    "\n",
    "You will complete **three** small programs that practice *selection* using `if`, `if/else`, and `if/elif/else`.  \n",
    "Please do not use nested conditionals as that is for 3.7\n",
    "\n",
    "## How to comeplete\n",
    "1. **Read the directions** for the hack you’re on.\n",
    "2. **Run the starter cell**, add your code where marked.\n",
    "3. **Test your program** with at least the sample inputs provided.\n",
    "4. **Make one or more small changes to the starter code** (This can be the message, number, range, etc). Please do not just turn in the starter code\n",
    "5. When finished, **screenshot or record** a short demo and add it to your portfolio.\n",
    "\n",
    "---\n",
    "## What we’re assessing\n",
    "- Correct use of `if`, `elif`, `else` .\n",
    "- Correct boolean expressions with comparisons and `and`/`or`/`not`.\n",
    "- Output matches the rules **for the given inputs**.\n",
    "- Clean prompts and give some comments that show your understanding."
   ]
  },
  {
   "cell_type": "markdown",
   "id": "dfe8fa90",
   "metadata": {},
   "source": [
    "\n",
    "## 🟢 Hack 1 — Number Range Checker \n",
    "\n",
    "**Goal**: Ask for a number and **select** the correct output.\n",
    "\n",
    "**Rules**\n",
    "- If input is **between 0 and 10** (inclusive), print the number **then** print `\"Goodbye\"`.\n",
    "- Else, **immediately** print `\"Goodbye!\"` only.\n",
    "\n",
    "**Steps**\n",
    "- [ ] Prompt: `\"Enter a number: \"` and convert to `int`.\n",
    "- [ ] Write one condition using `>=` and `<=` with `and`.\n",
    "- [ ] Print in the correct order for the true case.\n",
    "- [ ] Print only `\"Goodbye!\"` for the false case.\n",
    "\n",
    "**Sample tests**\n",
    "- Input `5` → prints `5` then `Goodbye` on next line.\n",
    "- Input `-2` → prints `Goodbye!`\n",
    "- Input `10` → prints `10` then `Goodbye`\n",
    "\n",
    "\n"
   ]
  },
  {
   "cell_type": "markdown",
   "id": "f0c3ee87",
   "metadata": {},
   "source": [
    "\n",
    "## 🟡 Hack 2 — Grade Evaluator \n",
    "\n",
    "**Goal**: Print messages based on a passing threshold using **selection**.\n",
    "\n",
    "**Rules**\n",
    "- Ask for a grade `0–100` (int).\n",
    "- if the grade is 90 or above, give them an A and tell them to have a good day\n",
    "- If the grade is 87-90, they have a chance to get an A through the AP test, so tell them \"Can be rounded to an A\" and tell them to have a good day\n",
    "- If their grade is lower, just tell them to have a good day\n",
    "\n",
    "**Steps**\n",
    "- [ ] Prompt: `\"Enter your grade (0-100): \"` and convert to `int`.\n",
    "- [ ] Write the `if/else` using `>=`.\n",
    "- [ ] Make sure the passing branch prints **both** lines, in order.\n",
    "\n",
    "**Sample tests to try**\n",
    "- `100` → two lines\n",
    "- `88` → two lines\n",
    "- `74` → one line\n",
    "\n",
    "**Optional**\n",
    "- Add an `elif grade < 0 or grade > 100` to warn about invalid input, else keep the same behavior.\n"
   ]
  },
  {
   "cell_type": "markdown",
   "id": "10724019",
   "metadata": {},
   "source": [
    "\n",
    "## 🔵 Hack 3 — Access Pass (Hard)\n",
    "\n",
    "You’re programming the entrance logic for a concert venue.\n",
    "\n",
    "**Inputs**\n",
    "- `age` (int)\n",
    "- `has_ticket` (string `\"yes\"`/`\"no\"` — case-insensitive)\n",
    "- `vip` (string `\"yes\"`/`\"no\"` — case-insensitive)\n",
    "\n",
    "**Rules**\n",
    "- If `vip == \"yes\"` → print `\"VIP Entrance\"`\n",
    "- Else if `has_ticket == \"yes\"` **and** `age >= 16` → `\"General Entrance\"`\n",
    "- Else if `has_ticket == \"yes\"` **and** `age < 16` → `\"Minor Entrance (with guardian)\"`\n",
    "- Else → `\"No Entrance\"`\n",
    "\n",
    "**Steps**\n",
    "- [ ] Read inputs and normalize strings with `.strip().lower()`.\n",
    "- [ ] Use **one** `if/elif/elif/else` ladder (don't use nesting).\n",
    "- [ ] Combine conditions with `and` where required.\n",
    "- [ ] Print exactly one of the four messages.\n",
    "\n",
    "**Sample tests**\n",
    "- `age=12, ticket=no, vip=yes` → `VIP Entrance`\n",
    "- `age=20, ticket=yes, vip=no` → `General Entrance`\n",
    "- `age=15, ticket=yes, vip=no` → `Minor Entrance (with guardian)`\n",
    "- `age=20, ticket=no, vip=no` → `No Entrance`\n",
    "\n",
    "**Optional**\n",
    "- Add an **OR**: Guests under 8 with a ticket may enter as `\"Kid Entrance (with adult)\"`.  \n",
    "  \n"
   ]
  },
  {
   "cell_type": "markdown",
   "id": "e65a930a",
   "metadata": {},
   "source": [
    "## Hack 1 — Number Range Checker\n",
    "\n",
    "**Just try your best, we know this can be challenging but please do not use AI to do these problems.**\n"
   ]
  },
  {
   "cell_type": "code",
   "execution_count": 2,
   "id": "adf08e23",
   "metadata": {},
   "outputs": [],
   "source": [
    "num = int(input(\"Enter a number: \"))\n",
    "# TODO: Write an if/else that checks if num is between 0 and 10 (inclusive)\n",
    "\n",
    "# if:\n",
    "#     print(num)\n",
    "#     print(\"Goodbye\")\n",
    "# else:\n",
    "#     print(\"Goodbye!\")"
   ]
  },
  {
   "cell_type": "markdown",
   "id": "6336b78d",
   "metadata": {},
   "source": [
    "## Hack 2 — Grade Evaluator\n",
    "\n",
    "**Just try your best, we know this can be challenging but please do not use AI to do these problems.**\n"
   ]
  },
  {
   "cell_type": "code",
   "execution_count": null,
   "id": "34cb49f9",
   "metadata": {},
   "outputs": [],
   "source": [
    "grade = int(input(\"Enter your grade: \"))\n",
    "# TODO: \n",
    "# if grade is greater or equal to 90 → print \"A\", then \"have a good day\"\n",
    "# if grade is greater or equal to 87, but less than 90 -> print \"can be rounded to an A\", then \"have a good day\"\n",
    "# if none of these cases apply, print \"have a good day\""
   ]
  },
  {
   "cell_type": "markdown",
   "id": "9745bec0",
   "metadata": {},
   "source": [
    "## Hack 3 — Access Pass (Advanced) \n",
    "**Just try your best, we know this can be challenging but please do not use AI to do these problems.**\n",
    "\n",
    "You can always go back to the lesson to relearn the topics. If you are really stuck, just add comments explaining your thought process and where you are stuck on, we will grade it based on your understanding, not just completion."
   ]
  },
  {
   "cell_type": "code",
   "execution_count": null,
   "id": "838cdadd",
   "metadata": {},
   "outputs": [],
   "source": [
    "age = int(input(\"Age: \"))\n",
    "has_ticket = input(\"Has ticket? (yes/no): \").strip().lower()\n",
    "vip = input(\"VIP? (yes/no): \").strip().lower()\n",
    "\n",
    "# TODO:\n",
    "# 1. If vip is \"yes\", print \"VIP Entrance\"\n",
    "# 2. Else if the person has a ticket (\"yes\") and is 16 or older, print \"General Entrance\"\n",
    "# 3. Else if the person has a ticket (\"yes\") and is younger than 16, print \"Minor Entrance (with guardian)\"\n",
    "# 4. Otherwise, print \"No Entrance\""
   ]
  },
  {
   "cell_type": "markdown",
   "id": "5027c0f3",
   "metadata": {},
   "source": [
    "\n",
    "---\n",
    "### Reflection: Think about the following question. Answer in 3-4 sentences\n",
    "- Did any of the question trip you up? If yes, explain the problem and your solution. If no, give a brief, 1-2 sentence summary of conditionals.\n",
    "- Can you think of real life examples where we would use conditionals? Please do NOT use one of the hacks as a real life example\n",
    "- Which operator (`and`, `or`, `not`) do you think you will use the most, and why?"
   ]
  },
  {
   "cell_type": "markdown",
   "id": "8a2d9f1b",
   "metadata": {},
   "source": [
    "\n",
    "---\n",
    "### 🧾 Turn-in checklist\n",
    "- [ ] All three hacks run and match the rules above them. \n",
    "- [ ] You included at least one changed element for at least one hack, this can be change of message, the range, or the input information...\n",
    "- [ ] You wrote a 2–3 sentence reflection in your portfolio:  \n",
    "  - What conditional form did you use most?  \n",
    "  - Where did you use `and`/`or`/`not`?  \n",
    "  - What would you like to add to the lesson that would help you better understand the material?\n"
   ]
  }
 ],
 "metadata": {
  "kernelspec": {
   "display_name": "venv (3.12.3)",
   "language": "python",
   "name": "python3"
  },
  "language_info": {
   "codemirror_mode": {
    "name": "ipython",
    "version": 3
   },
   "file_extension": ".py",
   "mimetype": "text/x-python",
   "name": "python",
   "nbconvert_exporter": "python",
   "pygments_lexer": "ipython3",
   "version": "3.12.3"
  }
 },
 "nbformat": 4,
 "nbformat_minor": 5
}
