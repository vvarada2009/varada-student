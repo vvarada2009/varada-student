{
 "cells": [
  {
   "cell_type": "raw",
   "id": "cae8bc40",
   "metadata": {
    "vscode": {
     "languageId": "raw"
    }
   },
   "source": [
    "---\n",
    "layout: post\n",
    "title: Lists Hacks Javascript\n",
    "description: This is a CSP Hacks notebook based on the lists lesson\n",
    "comments: true\n",
    "permalink: /csp/big-idea-3/<lists>/<4>/javascript_hw\n",
    "---"
   ]
  },
  {
   "cell_type": "markdown",
   "id": "44bdd529",
   "metadata": {},
   "source": [
    "# Javascript Lists Homework"
   ]
  },
  {
   "cell_type": "markdown",
   "id": "6a975112",
   "metadata": {},
   "source": [
    "- After going through the lists lesson work on these hacks in your own repository"
   ]
  },
  {
   "cell_type": "markdown",
   "id": "4b1ccc5c",
   "metadata": {},
   "source": [
    "### Hack 1 – Add Up Numbers\n",
    "\n",
    "Make a list of numbers. Write code to:\n",
    "1. Find the total sum.\n",
    "2. Find the average."
   ]
  },
  {
   "cell_type": "code",
   "execution_count": 1,
   "id": "9fc29a1a",
   "metadata": {
    "vscode": {
     "languageId": "javascript"
    }
   },
   "outputs": [
    {
     "data": {
      "application/javascript": "// Hack 1 – Add Up Numbers\nlet numbers = [4, 7, 1, 9, 6, 7, 10];\n\n// Find the total sum\nlet totalSum = 0;\nfor (let num of numbers) {\n    totalSum += num;\n}\nconsole.log(\"Total sum:\", totalSum);\n\n// Find the average\nlet average = totalSum / numbers.length;\nconsole.log(\"Average:\", average);\n\n",
      "text/plain": [
       "<IPython.core.display.Javascript object>"
      ]
     },
     "metadata": {},
     "output_type": "display_data"
    }
   ],
   "source": [
    "%%js \n",
    "// Hack 1 – Add Up Numbers\n",
    "let numbers = [4, 7, 1, 9, 6, 7, 10];\n",
    "\n",
    "// Find the total sum\n",
    "let totalSum = 0;\n",
    "for (let num of numbers) {\n",
    "    totalSum += num;\n",
    "}\n",
    "console.log(\"Total sum:\", totalSum);\n",
    "\n",
    "// Find the average\n",
    "let average = totalSum / numbers.length;\n",
    "console.log(\"Average:\", average);\n",
    "\n"
   ]
  },
  {
   "cell_type": "markdown",
   "id": "519b9811",
   "metadata": {},
   "source": [
    "### Hack 2 – Count Repeats\n",
    "\n",
    "Make a list with repeated items. Write code to count how many times each item appears."
   ]
  },
  {
   "cell_type": "code",
   "execution_count": 6,
   "id": "b9e989ea",
   "metadata": {
    "vscode": {
     "languageId": "javascript"
    }
   },
   "outputs": [
    {
     "data": {
      "application/javascript": "// Hack 2 – Count Repeats\nlet items = [\"cat\", \"dog\", \"cat\", \"bird\", \"bird\", \"bird\"];\n\n// Count how many times each item appears\nlet counts = {};\nfor (let item of items) {\n    if (counts[item] === undefined) {\n        counts[item] = 1;\n    } else {\n        counts[item] += 1;\n    }\n}\n\n// Print the counts\nfor (let item in counts) {\n    console.log(item + \": \" + counts[item]);\n}\n",
      "text/plain": [
       "<IPython.core.display.Javascript object>"
      ]
     },
     "metadata": {},
     "output_type": "display_data"
    }
   ],
   "source": [
    "%%js \n",
    "// Hack 2 – Count Repeats\n",
    "let items = [\"cat\", \"dog\", \"cat\", \"bird\", \"bird\", \"bird\"];\n",
    "\n",
    "// Count how many times each item appears\n",
    "let counts = {};\n",
    "for (let item of items) {\n",
    "    if (counts[item] === undefined) {\n",
    "        counts[item] = 1;\n",
    "    } else {\n",
    "        counts[item] += 1;\n",
    "    }\n",
    "}\n",
    "\n",
    "// Print the counts\n",
    "for (let item in counts) {\n",
    "    console.log(item + \": \" + counts[item]);\n",
    "}\n"
   ]
  },
  {
   "cell_type": "markdown",
   "id": "800ed729",
   "metadata": {},
   "source": [
    "### Hack 3 – Keep Only Evens\n",
    "\n",
    "Make a list of numbers. Write code to create a new list with only even numbers."
   ]
  },
  {
   "cell_type": "code",
   "execution_count": 7,
   "id": "4f7fc860",
   "metadata": {
    "vscode": {
     "languageId": "javascript"
    }
   },
   "outputs": [
    {
     "data": {
      "application/javascript": "// Hack 3 – Keep Only Evens\nlet numbers = [3, 8, 5, 12, 7, 9, 13, 31, 66, 18];\n\n// Create a new list with only even numbers\nlet evenNumbers = numbers.filter(num => num % 2 === 0);\n\n// Print the new list\nconsole.log(\"Even numbers:\", evenNumbers);\n",
      "text/plain": [
       "<IPython.core.display.Javascript object>"
      ]
     },
     "metadata": {},
     "output_type": "display_data"
    }
   ],
   "source": [
    "%%js \n",
    "// Hack 3 – Keep Only Evens\n",
    "let numbers = [3, 8, 5, 12, 7, 9, 13, 31, 66, 18];\n",
    "\n",
    "// Create a new list with only even numbers\n",
    "let evenNumbers = numbers.filter(num => num % 2 === 0);\n",
    "\n",
    "// Print the new list\n",
    "console.log(\"Even numbers:\", evenNumbers);\n"
   ]
  }
 ],
 "metadata": {
  "kernelspec": {
   "display_name": "venv",
   "language": "python",
   "name": "python3"
  },
  "language_info": {
   "codemirror_mode": {
    "name": "ipython",
    "version": 3
   },
   "file_extension": ".py",
   "mimetype": "text/x-python",
   "name": "python",
   "nbconvert_exporter": "python",
   "pygments_lexer": "ipython3",
   "version": "3.12.3"
  }
 },
 "nbformat": 4,
 "nbformat_minor": 5
}
