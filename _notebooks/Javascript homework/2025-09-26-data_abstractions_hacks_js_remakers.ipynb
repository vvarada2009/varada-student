{
 "cells": [
  {
   "cell_type": "code",
   "execution_count": null,
   "id": "e4102f0e",
   "metadata": {},
   "outputs": [],
   "source": [
    "---\n",
    "toc: true\n",
    "comments: false\n",
    "layout: post\n",
    "categories: [CSP Big Idea 3]\n",
    "title: 3.2 Data Abstractions JS Hack\n",
    "author: Jaynee Chauhan, Michelle Ji, Lucas Masterson\n",
    "description: Hack(s) for intro to data abstractions in JS.\n",
    "type: ccc\n",
    "permalink: /csp/big-idea-3/data-abstractions/p4/hacks-js\n",
    "---"
   ]
  },
  {
   "cell_type": "markdown",
   "id": "690b4172",
   "metadata": {},
   "source": [
    "## JS Lab: Library\n",
    "\n",
    "In this lab, similarly to the Python lab, you'll be working on a simple \"database\" for a library to understand CRUD operations in relation to representing redundant, similar data under one structure -- an abstraction.\n",
    "\n",
    "For JavaScript, you'll have to open the web console from Developer Tools (`ctrl + shift + p` -> `Developer: Toggle developer tools`)."
   ]
  },
  {
   "cell_type": "code",
   "execution_count": null,
   "id": "b6d36342",
   "metadata": {},
   "outputs": [],
   "source": []
  },
  {
   "cell_type": "code",
   "execution_count": 6,
   "id": "d7228dda",
   "metadata": {
    "vscode": {
     "languageId": "javascript"
    }
   },
   "outputs": [
    {
     "data": {
      "application/javascript": "\n// Create a div in the notebook cell for output\nvar outputDiv = document.createElement(\"div\");\noutputDiv.style.whiteSpace = \"pre-line\";\noutputDiv.style.fontFamily = \"Arial, sans-serif\";\nthis.element[0].appendChild(outputDiv);  // append to notebook cell\n\nfunction printToPage(text) {\n    outputDiv.innerText += text + \"\\n\";\n}\n\n// Library database\nlet library = [\n    { title: \"1984\", author: \"George Orwell\", checkedOut: false },\n    { title: \"To Kill a Mockingbird\", author: \"Harper Lee\", checkedOut: true },\n    { title: \"The Great Gatsby\", author: \"F. Scott Fitzgerald\", checkedOut: false }\n];\n\n// Display all books\nfunction displayLibrary() {\n    printToPage(\"📚 All books in the library:\");\n    library.forEach((book, i) => {\n        printToPage(`Index ${i}: ${book.title} by ${book.author} | Checked Out: ${book.checkedOut}`);\n    });\n    printToPage(\"----------------------------------\");\n}\n\n// Add a new book\nfunction addBook() {\n    let title = prompt(\"Enter book title:\");\n    let author = prompt(\"Enter author name:\");\n    let checkedOut = prompt(\"Is it checked out? (yes/no)\").toLowerCase() === \"yes\";\n\n    library.push({ title, author, checkedOut });\n    printToPage(`✅ Added book: ${title} by ${author}`);\n}\n\n// Find a book by title\nfunction findBook() {\n    let title = prompt(\"Enter the title of the book to find:\");\n    let book = library.find(b => b.title.toLowerCase() === title.toLowerCase());\n    if (book) {\n        printToPage(`🔍 Found: ${book.title} by ${book.author} | Checked Out: ${book.checkedOut}`);\n    } else {\n        printToPage(`❌ Book \"${title}\" not found.`);\n    }\n}\n\n// Update a book's checkedOut status\nfunction updateBook() {\n    let title = prompt(\"Enter the title of the book to update:\");\n    let book = library.find(b => b.title.toLowerCase() === title.toLowerCase());\n    if (book) {\n        book.checkedOut = prompt(\"Is it checked out now? (yes/no)\").toLowerCase() === \"yes\";\n        printToPage(`🔄 Updated \"${book.title}\" | Checked Out: ${book.checkedOut}`);\n    } else {\n        printToPage(`❌ Book \"${title}\" not found for update.`);\n    }\n}\n\n// Delete a book\nfunction deleteBook() {\n    let title = prompt(\"Enter the title of the book to delete:\");\n    let index = library.findIndex(b => b.title.toLowerCase() === title.toLowerCase());\n    if (index !== -1) {\n        let removed = library.splice(index, 1);\n        printToPage(`🗑️ Deleted \"${removed[0].title}\"`);\n    } else {\n        printToPage(`❌ Book \"${title}\" not found for deletion.`);\n    }\n}\n\n// Example usage\ndisplayLibrary();\n",
      "text/plain": [
       "<IPython.core.display.Javascript object>"
      ]
     },
     "metadata": {},
     "output_type": "display_data"
    }
   ],
   "source": [
    "%%js\n",
    "\n",
    "// Create a div in the notebook cell for output\n",
    "var outputDiv = document.createElement(\"div\");\n",
    "outputDiv.style.whiteSpace = \"pre-line\";\n",
    "outputDiv.style.fontFamily = \"Arial, sans-serif\";\n",
    "this.element[0].appendChild(outputDiv);  // append to notebook cell\n",
    "\n",
    "function printToPage(text) {\n",
    "    outputDiv.innerText += text + \"\\n\";\n",
    "}\n",
    "\n",
    "// Library database\n",
    "let library = [\n",
    "    { title: \"1984\", author: \"George Orwell\", checkedOut: false },\n",
    "    { title: \"To Kill a Mockingbird\", author: \"Harper Lee\", checkedOut: true },\n",
    "    { title: \"The Great Gatsby\", author: \"F. Scott Fitzgerald\", checkedOut: false }\n",
    "];\n",
    "\n",
    "// Display all books\n",
    "function displayLibrary() {\n",
    "    printToPage(\"📚 All books in the library:\");\n",
    "    library.forEach((book, i) => {\n",
    "        printToPage(`Index ${i}: ${book.title} by ${book.author} | Checked Out: ${book.checkedOut}`);\n",
    "    });\n",
    "    printToPage(\"----------------------------------\");\n",
    "}\n",
    "\n",
    "// Add a new book\n",
    "function addBook() {\n",
    "    let title = prompt(\"Enter book title:\");\n",
    "    let author = prompt(\"Enter author name:\");\n",
    "    let checkedOut = prompt(\"Is it checked out? (yes/no)\").toLowerCase() === \"yes\";\n",
    "\n",
    "    library.push({ title, author, checkedOut });\n",
    "    printToPage(`✅ Added book: ${title} by ${author}`);\n",
    "}\n",
    "\n",
    "// Find a book by title\n",
    "function findBook() {\n",
    "    let title = prompt(\"Enter the title of the book to find:\");\n",
    "    let book = library.find(b => b.title.toLowerCase() === title.toLowerCase());\n",
    "    if (book) {\n",
    "        printToPage(`🔍 Found: ${book.title} by ${book.author} | Checked Out: ${book.checkedOut}`);\n",
    "    } else {\n",
    "        printToPage(`❌ Book \"${title}\" not found.`);\n",
    "    }\n",
    "}\n",
    "\n",
    "// Update a book's checkedOut status\n",
    "function updateBook() {\n",
    "    let title = prompt(\"Enter the title of the book to update:\");\n",
    "    let book = library.find(b => b.title.toLowerCase() === title.toLowerCase());\n",
    "    if (book) {\n",
    "        book.checkedOut = prompt(\"Is it checked out now? (yes/no)\").toLowerCase() === \"yes\";\n",
    "        printToPage(`🔄 Updated \"${book.title}\" | Checked Out: ${book.checkedOut}`);\n",
    "    } else {\n",
    "        printToPage(`❌ Book \"${title}\" not found for update.`);\n",
    "    }\n",
    "}\n",
    "\n",
    "// Delete a book\n",
    "function deleteBook() {\n",
    "    let title = prompt(\"Enter the title of the book to delete:\");\n",
    "    let index = library.findIndex(b => b.title.toLowerCase() === title.toLowerCase());\n",
    "    if (index !== -1) {\n",
    "        let removed = library.splice(index, 1);\n",
    "        printToPage(`🗑️ Deleted \"${removed[0].title}\"`);\n",
    "    } else {\n",
    "        printToPage(`❌ Book \"${title}\" not found for deletion.`);\n",
    "    }\n",
    "}\n",
    "\n",
    "// Example usage\n",
    "displayLibrary();\n"
   ]
  }
 ],
 "metadata": {
  "kernelspec": {
   "display_name": "venv",
   "language": "python",
   "name": "python3"
  },
  "language_info": {
   "codemirror_mode": {
    "name": "ipython",
    "version": 3
   },
   "file_extension": ".py",
   "mimetype": "text/x-python",
   "name": "python",
   "nbconvert_exporter": "python",
   "pygments_lexer": "ipython3",
   "version": "3.12.3"
  }
 },
 "nbformat": 4,
 "nbformat_minor": 5
}
