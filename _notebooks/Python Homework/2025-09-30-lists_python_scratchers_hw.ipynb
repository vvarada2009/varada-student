{
 "cells": [
  {
   "cell_type": "raw",
   "id": "6676fbba",
   "metadata": {
    "vscode": {
     "languageId": "raw"
    }
   },
   "source": [
    "---\n",
    "layout: post\n",
    "title: Lists Hacks Python\n",
    "description: This is a CSP Hacks notebook based on the lists lesson\n",
    "comments: true\n",
    "permalink: /csp/big-idea-3/<lists>/<4>/python_hw\n",
    "---"
   ]
  },
  {
   "cell_type": "markdown",
   "id": "b52a2664",
   "metadata": {},
   "source": [
    "# Python Lists Homework"
   ]
  },
  {
   "cell_type": "markdown",
   "id": "b85e23b6",
   "metadata": {},
   "source": [
    "- After going through the lists lesson work on these hacks in your own repository"
   ]
  },
  {
   "cell_type": "markdown",
   "id": "0eef752c",
   "metadata": {},
   "source": [
    "### Hack 1 – Add Up Numbers\n",
    "\n",
    "Make a list of numbers. Write code to:\n",
    "1. Find the total sum.\n",
    "2. Find the average."
   ]
  },
  {
   "cell_type": "code",
   "execution_count": 3,
   "id": "9eb9fc42",
   "metadata": {},
   "outputs": [
    {
     "name": "stdout",
     "output_type": "stream",
     "text": [
      "Total sum: 44\n",
      "Average: 6.285714285714286\n"
     ]
    }
   ],
   "source": [
    "# Hack 1 – Add Up Numbers\n",
    "numbers = [4, 7, 1, 9, 6, 7, 10]\n",
    "\n",
    "# Find the total sum\n",
    "total_sum = sum(numbers)\n",
    "print(\"Total sum:\", total_sum)\n",
    "\n",
    "# Find the average\n",
    "average = total_sum / len(numbers)\n",
    "print(\"Average:\", average)\n"
   ]
  },
  {
   "cell_type": "markdown",
   "id": "46f14089",
   "metadata": {},
   "source": [
    "### Hack 2 – Count Repeats\n",
    "\n",
    "Make a list with repeated items. Write code to count how many times each item appears."
   ]
  },
  {
   "cell_type": "code",
   "execution_count": 2,
   "id": "c8224c2e",
   "metadata": {},
   "outputs": [
    {
     "name": "stdout",
     "output_type": "stream",
     "text": [
      "cat: 2\n",
      "dog: 1\n",
      "bird: 3\n"
     ]
    }
   ],
   "source": [
    "# Hack 2 – Count Repeats\n",
    "items = [\"cat\", \"dog\", \"cat\", \"bird\", \"bird\", \"bird\"]\n",
    "\n",
    "# Count how many times each item appears\n",
    "counts = {}\n",
    "for item in items:\n",
    "    if item in counts:\n",
    "        counts[item] += 1\n",
    "    else:\n",
    "        counts[item] = 1\n",
    "\n",
    "# Print the counts\n",
    "for item, count in counts.items():\n",
    "    print(f\"{item}: {count}\")\n"
   ]
  },
  {
   "cell_type": "markdown",
   "id": "714f85a7",
   "metadata": {},
   "source": [
    "### Hack 3 – Keep Only Evens\n",
    "\n",
    "Make a list of numbers. Write code to create a new list with only even numbers."
   ]
  },
  {
   "cell_type": "code",
   "execution_count": 1,
   "id": "a9e5c292",
   "metadata": {},
   "outputs": [
    {
     "name": "stdout",
     "output_type": "stream",
     "text": [
      "Even numbers: [8, 12, 66, 18]\n"
     ]
    }
   ],
   "source": [
    "# Hack 3 – Keep Only Evens\n",
    "numbers = [3, 8, 5, 12, 7, 9, 13, 31, 66, 18]\n",
    "\n",
    "# Create a new list with only even numbers\n",
    "even_numbers = [num for num in numbers if num % 2 == 0]\n",
    "\n",
    "# Print the new list\n",
    "print(\"Even numbers:\", even_numbers)\n"
   ]
  }
 ],
 "metadata": {
  "kernelspec": {
   "display_name": "Python 3",
   "language": "python",
   "name": "python3"
  },
  "language_info": {
   "codemirror_mode": {
    "name": "ipython",
    "version": 3
   },
   "file_extension": ".py",
   "mimetype": "text/x-python",
   "name": "python",
   "nbconvert_exporter": "python",
   "pygments_lexer": "ipython3",
   "version": "3.12.3"
  }
 },
 "nbformat": 4,
 "nbformat_minor": 5
}
