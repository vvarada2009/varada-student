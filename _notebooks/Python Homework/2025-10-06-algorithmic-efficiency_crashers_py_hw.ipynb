{
 "cells": [
  {
   "cell_type": "raw",
   "id": "4e3e77eb",
   "metadata": {
    "vscode": {
     "languageId": "raw"
    }
   },
   "source": [
    "---\n",
    "layout: post\n",
    "title: \"Crashers - 3.17 Algorithmic Efficiency Python Hacks\"\n",
    "categories: [Python]\n",
    "tags: [python, javascript, algorithms, lesson, beginner]\n",
    "description: Learn about algorithms and how they can be more or less efficient\n",
    "permalink: /python/algorithmic-efficiency/crashers-hw\n",
    "---"
   ]
  },
  {
   "cell_type": "markdown",
   "id": "825f983c",
   "metadata": {},
   "source": [
    "## Algorithmic Efficiency Hacks: Python\n",
    "\n",
    "Let's test your knowledge on algorithmic efficiency!\n",
    "\n",
    "### Hack 1: How Much Time?\n",
    "\n",
    "#### Objective: write the time complexity of the algorithm below using Big-O notation.\n",
    "(don't worry about special cases such as n = 1 or n = 0)."
   ]
  },
  {
   "cell_type": "code",
   "execution_count": 2,
   "id": "1fc4bcce",
   "metadata": {},
   "outputs": [
    {
     "name": "stdout",
     "output_type": "stream",
     "text": [
      "Invalid input! Using default value 5.\n",
      "0\n",
      "1\n",
      "2\n",
      "3\n",
      "4\n",
      "O(n)\n"
     ]
    }
   ],
   "source": [
    "# 🔹 Hack 1: How Much Time?\n",
    "\n",
    "try:\n",
    "    n = int(input(\"Enter a number: \"))\n",
    "except ValueError:\n",
    "    print(\"Invalid input! Using default value 5.\")\n",
    "    n = 5\n",
    "\n",
    "for i in range(n):\n",
    "    print(i)\n",
    "\n",
    "print(\"O(n)\")\n"
   ]
  },
  {
   "cell_type": "markdown",
   "id": "4e562838",
   "metadata": {},
   "source": [
    "### Hack 2: Your Turn!\n",
    "\n",
    "#### Objective: <strong>write</strong> an algorithm with O(n^2) time complexity."
   ]
  },
  {
   "cell_type": "code",
   "execution_count": 4,
   "id": "f9394969",
   "metadata": {},
   "outputs": [
    {
     "name": "stdout",
     "output_type": "stream",
     "text": [
      "Invalid input! Using default value 3.\n",
      "0 0\n",
      "0 1\n",
      "0 2\n",
      "1 0\n",
      "1 1\n",
      "1 2\n",
      "2 0\n",
      "2 1\n",
      "2 2\n",
      "O(n^2)\n"
     ]
    }
   ],
   "source": [
    "# 🔹 Hack 2: Your Turn!\n",
    "\n",
    "try:\n",
    "    n = int(input(\"Enter a number: \"))\n",
    "except ValueError:\n",
    "    print(\"Invalid input! Using default value 3.\")\n",
    "    n = 3\n",
    "\n",
    "for i in range(n):          # Outer loop runs n times\n",
    "    for j in range(n):      # Inner loop runs n times for each i\n",
    "        print(i, j)         # O(1) operation\n",
    "\n",
    "print(\"O(n^2)\")\n"
   ]
  },
  {
   "cell_type": "markdown",
   "id": "26d353f3",
   "metadata": {},
   "source": [
    "### Hack 3: Gotta Go Fast!\n",
    "\n",
    "#### Objective: Optimize this algorithm so that it has a lower time complexity <strong>without modifying the outer loop</strong>"
   ]
  },
  {
   "cell_type": "code",
   "execution_count": 7,
   "id": "83acbe82",
   "metadata": {},
   "outputs": [
    {
     "name": "stdout",
     "output_type": "stream",
     "text": [
      "[]\n",
      "[0]\n",
      "[1]\n",
      "[0, 1]\n",
      "[2]\n",
      "[0, 2]\n",
      "[1, 2]\n",
      "[0, 1, 2]\n"
     ]
    }
   ],
   "source": [
    "n = 3  # replace input() with a fixed value for Jupyter\n",
    "arr = list(range(n))  # [0, 1, 2, ..., n-1]\n",
    "\n",
    "def print_subsets(array):\n",
    "    total = 1 << len(array)  # 2^n subsets\n",
    "    for mask in range(total):  # O(2^n)\n",
    "        subset = []\n",
    "        for i in range(len(array)):  # O(n) per subset\n",
    "            if mask & (1 << i):\n",
    "                subset.append(array[i])\n",
    "        print(subset)\n",
    "\n",
    "print_subsets(arr)\n",
    "\n",
    "# Time complexity: O(n * 2^n)\n"
   ]
  },
  {
   "cell_type": "markdown",
   "id": "e6e45a7b",
   "metadata": {},
   "source": [
    "### Hack 4: Extra Challenge \n",
    "\n",
    "#### Objective: Write an algorithm that does <strong>NOT</strong> have a time complexity of O(1), O(n), or O(n^x) and identify the time complexity\n",
    "##### (I will not accept O(n^3) or some other power, it needs to be more complex.)"
   ]
  }
 ],
 "metadata": {
  "kernelspec": {
   "display_name": "Python 3",
   "language": "python",
   "name": "python3"
  },
  "language_info": {
   "codemirror_mode": {
    "name": "ipython",
    "version": 3
   },
   "file_extension": ".py",
   "mimetype": "text/x-python",
   "name": "python",
   "nbconvert_exporter": "python",
   "pygments_lexer": "ipython3",
   "version": "3.12.3"
  }
 },
 "nbformat": 4,
 "nbformat_minor": 5
}
