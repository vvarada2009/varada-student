{
  "cells": [
    {
      "cell_type": "raw",
      "metadata": {
        "vscode": {
          "languageId": "raw"
        }
      },
      "source": [
        "---\n",
        "title: \"Nested Conditionals in Python - Homework\"\n",
        "description: \"Apply your skills of multilayered conditionals and combine all you've learned so far.\"\n",
        "layout: post\n",
        "permalink: /csp/codemaxxers/nested-conditionals-homework-python\n",
        "---"
      ]
    },
    {
      "cell_type": "markdown",
      "metadata": {},
      "source": [
        "# Nested Conditionals Homework: Python\n",
        "\n",
        "Complete the following three problems to practice working with nested conditionals. Each problem increases in difficulty. **All problems must be completed in Python.**"
      ]
    },
    {
      "cell_type": "markdown",
      "metadata": {},
      "source": [
        "## Problem 1: Complete the Shipping Cost Calculator (Easy)\n",
        "\n",
        "An online store calculates shipping costs based on the order total and membership status. The partially completed code below needs to be finished.\n",
        "\n",
        "**Rules:**\n",
        "- If order total is $50 or more:\n",
        "  - Free shipping for members\n",
        "  - $5 shipping for non-members\n",
        "- If order total is less than $50:\n",
        "  - $3 shipping for members\n",
        "  - $8 shipping for non-members\n",
        "\n",
        "**Your task:** Complete the nested conditional so that when you run the code with the given initial values (`order_total = 45` and `is_member = True`), the output shows a shipping cost of **$3**."
      ]
    },
    {
      "cell_type": "code",
      "execution_count": null,
      "metadata": {},
      "outputs": [],
      "source": [
        "# Initial conditions - DO NOT CHANGE THESE\n",
        "order_total = 45\n",
        "is_member = True\n",
        "shipping_cost = 0\n",
        "\n",
        "print(f\"Order Total: ${order_total}\")\n",
        "print(f\"Member: {is_member}\")\n",
        "\n",
        "# YOUR CODE HERE: Complete the nested conditional\n",
        "if order_total >= 50:\n",
        "    # Complete this branch\n",
        "    pass\n",
        "else:\n",
        "    # Complete this branch\n",
        "    pass\n",
        "\n",
        "print(f\"Shipping Cost: ${shipping_cost}\")\n",
        "\n",
        "# Expected output with given values: Shipping Cost: $3"
      ]
    },
    {
      "cell_type": "markdown",
      "metadata": {},
      "source": [
        "## Problem 2: Build a Restaurant Recommendation System (Medium)\n",
        "\n",
        "Create a system that recommends a restaurant based on the user's budget and cuisine preference.\n",
        "\n",
        "**Requirements:**\n",
        "- If budget is \"high\" (over $30 per person):\n",
        "  - If cuisine is \"italian\": recommend \"Bella Notte\"\n",
        "  - If cuisine is \"japanese\": recommend \"Sakura Palace\"\n",
        "  - For any other cuisine: recommend \"The Grand Bistro\"\n",
        "- If budget is \"medium\" ($15-$30 per person):\n",
        "  - If cuisine is \"italian\": recommend \"Mario's Pizzeria\"\n",
        "  - If cuisine is \"japanese\": recommend \"Tokyo Express\"\n",
        "  - For any other cuisine: recommend \"Downtown Diner\"\n",
        "- If budget is \"low\" (under $15 per person):\n",
        "  - Recommend \"Food Court\" regardless of cuisine preference\n",
        "\n",
        "**Your task:** Write the complete nested conditional structure. Store the recommendation in the `recommendation` variable."
      ]
    },
    {
      "cell_type": "code",
      "execution_count": null,
      "metadata": {},
      "outputs": [],
      "source": [
        "# Test variables\n",
        "budget_per_person = 25\n",
        "cuisine = \"japanese\"\n",
        "recommendation = \"\"\n",
        "\n",
        "print(f\"Budget per person: ${budget_per_person}\")\n",
        "print(f\"Preferred cuisine: {cuisine}\")\n",
        "\n",
        "# YOUR CODE HERE: Write the complete nested conditional\n",
        "\n",
        "\n",
        "\n",
        "print(f\"\\nRecommendation: {recommendation}\")\n",
        "\n",
        "# Test your code with these scenarios:\n",
        "# budget_per_person=35, cuisine=\"italian\" → \"Bella Notte\"\n",
        "# budget_per_person=25, cuisine=\"japanese\" → \"Tokyo Express\"\n",
        "# budget_per_person=20, cuisine=\"mexican\" → \"Downtown Diner\"\n",
        "# budget_per_person=10, cuisine=\"italian\" → \"Food Court\""
      ]
    },
    {
      "cell_type": "markdown",
      "metadata": {},
      "source": [
        "## Problem 3: Design a Smart Home Thermostat System (Hard)\n",
        "\n",
        "You're designing the logic for a smart thermostat that automatically adjusts temperature based on multiple factors.\n",
        "\n",
        "**Word Problem:**\n",
        "\n",
        "The thermostat needs to decide what action to take based on:\n",
        "- Current temperature\n",
        "- Whether anyone is home\n",
        "- Time of day (represented as \"day\" or \"night\")\n",
        "- Energy saving mode (on or off)\n",
        "\n",
        "**Logic Requirements:**\n",
        "\n",
        "1. **If someone is home:**\n",
        "   - During the day:\n",
        "     - If temp is above 75°F: set action to \"cooling\" and target_temp to 72\n",
        "     - If temp is below 68°F: set action to \"heating\" and target_temp to 70\n",
        "     - Otherwise: set action to \"maintaining\" and keep current temp\n",
        "   - During the night:\n",
        "     - If temp is above 72°F: set action to \"cooling\" and target_temp to 68\n",
        "     - If temp is below 65°F: set action to \"heating\" and target_temp to 68\n",
        "     - Otherwise: set action to \"maintaining\" and keep current temp\n",
        "\n",
        "2. **If no one is home:**\n",
        "   - If energy saving mode is ON:\n",
        "     - If temp is above 80°F: set action to \"cooling\" and target_temp to 78\n",
        "     - If temp is below 60°F: set action to \"heating\" and target_temp to 62\n",
        "     - Otherwise: set action to \"off\" and target_temp to current temp\n",
        "   - If energy saving mode is OFF:\n",
        "     - Set action to \"maintaining\" and target_temp to 70\n",
        "\n",
        "**Your task:** Design the complete nested conditional algorithm from scratch. You're given the framework below with initial values, but NO code. Write the entire logic yourself."
      ]
    },
    {
      "cell_type": "code",
      "execution_count": null,
      "metadata": {},
      "outputs": [],
      "source": [
        "# Test variables\n",
        "current_temp = 78\n",
        "is_home_occupied = True\n",
        "time_of_day = \"day\"  # \"day\" or \"night\"\n",
        "energy_saving_mode = False\n",
        "\n",
        "# Variables to set\n",
        "action = \"\"  # Will be \"heating\", \"cooling\", \"maintaining\", or \"off\"\n",
        "target_temp = current_temp\n",
        "\n",
        "print(\"=== Smart Thermostat Status ===\")\n",
        "print(f\"Current Temperature: {current_temp}°F\")\n",
        "print(f\"Home Occupied: {is_home_occupied}\")\n",
        "print(f\"Time of Day: {time_of_day}\")\n",
        "print(f\"Energy Saving Mode: {energy_saving_mode}\")\n",
        "print()\n",
        "\n",
        "# YOUR CODE HERE: Write the complete nested conditional algorithm\n",
        "\n",
        "\n",
        "\n",
        "print(\"=== Thermostat Action ===\")\n",
        "print(f\"Action: {action}\")\n",
        "print(f\"Target Temperature: {target_temp}°F\")\n",
        "\n",
        "# Test your code with these scenarios:\n",
        "# Scenario 1: current_temp=78, is_home_occupied=True, time_of_day=\"day\", energy_saving_mode=False\n",
        "#   → action=\"cooling\", target_temp=72\n",
        "# Scenario 2: current_temp=66, is_home_occupied=True, time_of_day=\"night\", energy_saving_mode=True\n",
        "#   → action=\"maintaining\", target_temp=66\n",
        "# Scenario 3: current_temp=85, is_home_occupied=False, time_of_day=\"day\", energy_saving_mode=True\n",
        "#   → action=\"cooling\", target_temp=78\n",
        "# Scenario 4: current_temp=70, is_home_occupied=False, time_of_day=\"night\", energy_saving_mode=False\n",
        "#   → action=\"maintaining\", target_temp=70"
      ]
    },
    {
      "cell_type": "markdown",
      "metadata": {},
      "source": [
        "## Reflection Questions\n",
        "\n",
        "After completing all three problems, answer these questions:\n",
        "\n",
        "1. Which problem was the most challenging and why?\n",
        "2. How did you decide on the structure of your nested conditionals in Problem 3?\n",
        "3. Can you think of a real-world situation where you would need even MORE levels of nesting than Problem 3?"
      ]
    }
  ],
  "metadata": {
    "kernelspec": {
      "display_name": "Python 3",
      "language": "python",
      "name": "python3"
    },
    "language_info": {
      "codemirror_mode": {
        "name": "ipython",
        "version": 3
      },
      "file_extension": ".py",
      "mimetype": "text/x-python",
      "name": "python",
      "nbconvert_exporter": "python",
      "pygments_lexer": "ipython3",
      "version": "3.8.0"
    }
  },
  "nbformat": 4,
  "nbformat_minor": 4
}
