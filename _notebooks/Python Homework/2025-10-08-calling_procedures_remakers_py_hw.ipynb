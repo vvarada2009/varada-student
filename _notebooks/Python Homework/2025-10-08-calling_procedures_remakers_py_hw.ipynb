{
 "cells": [
  {
   "cell_type": "raw",
   "id": "1ecb88cd",
   "metadata": {
    "vscode": {
     "languageId": "raw"
    }
   },
   "source": [
    "---\n",
    "toc: true\n",
    "comments: false\n",
    "layout: post\n",
    "categories: [CSP Big Idea 3]\n",
    "title: 3.12 Calling Procedures Python Hack\n",
    "author: Lucas Masterson\n",
    "description: Hack (literally!) for 3.12 Calling Procedures\n",
    "permalink: /csp/big-idea-3/calling-procedures/p4/hw-py\n",
    "---"
   ]
  },
  {
   "cell_type": "markdown",
   "id": "b6769750",
   "metadata": {},
   "source": [
    "# Calling Procedures Python Homework\n",
    "\n",
    "This will be unlike any other homework you've done. If you're just learning programming, I know you'll be tempted to use copilot to get through everything for syntax and such, but I'd like students to focus more so on the system understanding side of things. \n",
    "\n",
    "For that reason, I've designed a homework where you'll be editing code on a locally run webserver, then hacking it using XSS (cross site scripting)! There's a lot of moving parts in this homework, and you'll have to learn some tools like `flask`, `pytest`, web requests, etc.\n",
    "\n",
    "It'll be hard, but don't give up!\n",
    "\n",
    "> \"If debugging is the process of removing software bugs, then programming must be the process of putting them in.\"\n",
    "> \\- *Edsger W. Dijkstra*"
   ]
  },
  {
   "cell_type": "markdown",
   "id": "f175906f",
   "metadata": {},
   "source": [
    "## Getting Started\n",
    "\n",
    "1. Go to the [lab link](https://github.com/the-remakers/procedures-lab).\n",
    "2. Click **Use this template**.\n",
    "3. Complete the lab. Instructions are in `README.md`."
   ]
  }
 ],
 "metadata": {
  "language_info": {
   "name": "python"
  }
 },
 "nbformat": 4,
 "nbformat_minor": 5
}
