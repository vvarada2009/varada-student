{
 "cells": [
  {
   "cell_type": "raw",
   "id": "f8d46d8e",
   "metadata": {
    "vscode": {
     "languageId": "raw"
    }
   },
   "source": [
    "---\n",
    "layout: post\n",
    "title: \"3.1 Variables & Assignments hacks - Python\"\n",
    "categories: [Programming Fundamentals, Tutorial]\n",
    "tags: [python, variables, assignment, beginner]\n",
    "description: Apply your understanding of Variables & Assignments with these Python hacks\n",
    "permalink: /python/variables/crashers-hw\n",
    "author: Aditya Srivastava\n",
    "---"
   ]
  },
  {
   "cell_type": "markdown",
   "id": "e48e5dfd",
   "metadata": {},
   "source": [
    "# 🐷 Peppa Maze Variables & Assignments Hacks (Python)\n",
    "Welcome to the Peppa Maze hacks! These challenges will test your understanding of variables, assignments, and logic in Python. Read each task, then write or modify code to solve it."
   ]
  },
  {
   "cell_type": "markdown",
   "id": "7333747d",
   "metadata": {},
   "source": [
    "## Hack 1: Python - Variable Assignment, Naming, and Operators\n",
    "Create variables for Peppa's name, score, and level using good Python naming conventions. Assign initial values, then use operators to update score (add 10) and level (multiply by 2). Print all results."
   ]
  },
  {
   "cell_type": "code",
   "execution_count": 1,
   "id": "febf933f",
   "metadata": {},
   "outputs": [
    {
     "name": "stdout",
     "output_type": "stream",
     "text": [
      "Name: Peppa\n",
      "Score: 60\n",
      "Level: 6\n"
     ]
    }
   ],
   "source": [
    "# Write your code here\n",
    "# Create variables for Peppa's name, score, and level\n",
    "peppa_name = \"Peppa\"\n",
    "peppa_score = 50\n",
    "peppa_level = 3\n",
    "\n",
    "# Use operators to update score and level\n",
    "peppa_score = peppa_score + 10   # add 10 to score\n",
    "peppa_level = peppa_level * 2    # multiply level by 2\n",
    "\n",
    "# Print all results\n",
    "print(\"Name:\", peppa_name)\n",
    "print(\"Score:\", peppa_score)\n",
    "print(\"Level:\", peppa_level)\n"
   ]
  },
  {
   "cell_type": "markdown",
   "id": "a3133f05",
   "metadata": {},
   "source": [
    "## Hack 2: Python - Variable Declaration, Assignment, and Operators\n",
    "Declare variables for Peppa and George's scores using good Python naming conventions. Assign initial values, then use operators to update both scores (e.g., Peppa gets 15 points, George loses 5 points). Print both scores."
   ]
  },
  {
   "cell_type": "code",
   "execution_count": 2,
   "id": "d8501a2d",
   "metadata": {},
   "outputs": [
    {
     "name": "stdout",
     "output_type": "stream",
     "text": [
      "Peppa's Score: 65\n",
      "George's Score: 35\n"
     ]
    }
   ],
   "source": [
    "# Write your code here\n",
    "# Declare variables for Peppa and George's scores\n",
    "peppa_score = 50\n",
    "george_score = 40\n",
    "\n",
    "# Use operators to update both scores\n",
    "peppa_score = peppa_score + 15   # Peppa gains 15 points\n",
    "george_score = george_score - 5  # George loses 5 points\n",
    "\n",
    "# Print both scores\n",
    "print(\"Peppa's Score:\", peppa_score)\n",
    "print(\"George's Score:\", george_score)\n"
   ]
  },
  {
   "cell_type": "markdown",
   "id": "f248c523",
   "metadata": {},
   "source": [
    "## Hack 3: Python - Multiple Assignment and Math Operators\n",
    "Peppa and George both start at level 1. Use Python's multiple assignment feature to assign both their levels to 5 in one line. Then, calculate a combined score by multiplying their levels together and multiplying by 10. Print all results."
   ]
  },
  {
   "cell_type": "code",
   "execution_count": 3,
   "id": "bfd55c97",
   "metadata": {},
   "outputs": [
    {
     "name": "stdout",
     "output_type": "stream",
     "text": [
      "Peppa's Level: 5\n",
      "George's Level: 5\n",
      "Combined Score: 250\n"
     ]
    }
   ],
   "source": [
    "# assign peppa level\n",
    "peppa_level = 1\n",
    "# assign george level\n",
    "george_level = 1\n",
    "\n",
    "# Assign both levels to 5 in one line using multiple assignment\n",
    "peppa_level = george_level = 5\n",
    "\n",
    "# combined_score = peppa_level * george_level * 10\n",
    "combined_score = peppa_level * george_level * 10\n",
    "\n",
    "# Print all results\n",
    "print(\"Peppa's Level:\", peppa_level)\n",
    "print(\"George's Level:\", george_level)\n",
    "print(\"Combined Score:\", combined_score)\n"
   ]
  }
 ],
 "metadata": {
  "kernelspec": {
   "display_name": "Python 3",
   "language": "python",
   "name": "python3"
  },
  "language_info": {
   "codemirror_mode": {
    "name": "ipython",
    "version": 3
   },
   "file_extension": ".py",
   "mimetype": "text/x-python",
   "name": "python",
   "nbconvert_exporter": "python",
   "pygments_lexer": "ipython3",
   "version": "3.12.3"
  }
 },
 "nbformat": 4,
 "nbformat_minor": 5
}
