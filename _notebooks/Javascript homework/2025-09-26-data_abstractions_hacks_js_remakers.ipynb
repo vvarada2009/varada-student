{
 "cells": [
  {
   "cell_type": "code",
   "execution_count": null,
   "id": "e4102f0e",
   "metadata": {},
   "outputs": [],
   "source": [
    "---\n",
    "toc: true\n",
    "comments: false\n",
    "layout: post\n",
    "categories: [CSP Big Idea 3]\n",
    "title: 3.2 Data Abstractions JS Hack\n",
    "author: Jaynee Chauhan, Michelle Ji, Lucas Masterson\n",
    "description: Hack(s) for intro to data abstractions in JS.\n",
    "type: ccc\n",
    "permalink: /csp/big-idea-3/data-abstractions/p4/hacks-js\n",
    "---"
   ]
  },
  {
   "cell_type": "markdown",
   "id": "690b4172",
   "metadata": {},
   "source": [
    "## JS Lab: Library\n",
    "\n",
    "In this lab, similarly to the Python lab, you'll be working on a simple \"database\" for a library to understand CRUD operations in relation to representing redundant, similar data under one structure -- an abstraction.\n",
    "\n",
    "For JavaScript, you'll have to open the web console from Developer Tools (`ctrl + shift + p` -> `Developer: Toggle developer tools`)."
   ]
  },
  {
   "cell_type": "code",
   "execution_count": null,
   "id": "d7228dda",
   "metadata": {
    "vscode": {
     "languageId": "javascript"
    }
   },
   "outputs": [
    {
     "data": {
      "application/javascript": "\n// Our \"database\" is an array of objects, each representing a book in a library\nlet library = [\n    { title: \"1984\", author: \"George Orwell\", checkedOut: false },\n    { title: \"To Kill a Mockingbird\", author: \"Harper Lee\", checkedOut: true },\n    { title: \"The Great Gatsby\", author: \"F. Scott Fitzgerald\", checkedOut: false }\n];\n\n// Function to display all books\nfunction displayLibrary(lib) {\n    console.log(\"All books in the library:\");\n    lib.forEach((book, i) => {\n        console.log(`Index ${i}:`, book);\n    });\n}\n\n// Function to add a new book\nfunction addBook(lib) {\n    let title = prompt(\"Enter book title:\");\n    let author = prompt(\"Enter author name:\");\n    let checkedOutInput = prompt(\"Is the book checked out? (yes or no):\");\n    let checkedOut = checkedOutInput.toLowerCase() === \"yes\";\n\n    let newBook = { title: title, author: author, checkedOut: checkedOut };\n    lib.push(newBook);\n    console.log(`Book '${title}' added successfully!`);\n}\n\n// Function to find a book by title\nfunction findBook(lib, searchTitle) {\n    for (let book of lib) {\n        if (book.title.toLowerCase() === searchTitle.toLowerCase()) {\n            console.log(\"Book found:\", book);\n            return;\n        }\n    }\n    console.log(`No book found with title '${searchTitle}'`);\n}\n\n// Function to update a book's checkedOut status\nfunction updateBook(lib, searchTitle) {\n    for (let book of lib) {\n        if (book.title.toLowerCase() === searchTitle.toLowerCase()) {\n            console.log(\"Current book status:\", book);\n            let newStatusInput = prompt(\"Is the book checked out now? (yes or no):\");\n            book.checkedOut = newStatusInput.toLowerCase() === \"yes\";\n            console.log(`Book '${searchTitle}' updated successfully!`);\n            return;\n        }\n    }\n    console.log(`No book found with title '${searchTitle}'`);\n}\n\n// Function to delete a book\nfunction deleteBook(lib, searchTitle) {\n    for (let i = 0; i < lib.length; i++) {\n        if (lib[i].title.toLowerCase() === searchTitle.toLowerCase()) {\n            lib.splice(i, 1);\n            console.log(`Book '${searchTitle}' deleted successfully!`);\n            return;\n        }\n    }\n    console.log(`No book found with title '${searchTitle}'`);\n}\n\n// Example usage\ndisplayLibrary(library);\n\n// Uncomment the following lines one by one to test CRUD operations:\n\n// addBook(library); // Prompts to add a new book\n// findBook(library, \"1984\"); // Finds a book by title\n// updateBook(library, \"To Kill a Mockingbird\"); // Updates checkedOut status\n// deleteBook(library, \"The Great Gatsby\"); // Deletes a book\n\n// Display library again after changes\n// displayLibrary(library);\n",
      "text/plain": [
       "<IPython.core.display.Javascript object>"
      ]
     },
     "metadata": {},
     "output_type": "display_data"
    }
   ],
   "source": [
    "%%html\n",
    "<div id=\"output\" style=\"font-family: Arial, sans-serif; white-space: pre-line; margin-bottom: 10px;\"></div>\n",
    "\n",
    "<script>\n",
    "  // Our \"database\" - array of book objects\n",
    "  let library = [\n",
    "      { title: \"1984\", author: \"George Orwell\", checkedOut: false },\n",
    "      { title: \"To Kill a Mockingbird\", author: \"Harper Lee\", checkedOut: true },\n",
    "      { title: \"The Great Gatsby\", author: \"F. Scott Fitzgerald\", checkedOut: false }\n",
    "  ];\n",
    "\n",
    "  // Helper function to print text to the webpage\n",
    "  function printToPage(text) {\n",
    "      document.getElementById(\"output\").innerText += text + \"\\n\";\n",
    "  }\n",
    "\n",
    "  // Display all books\n",
    "  function displayLibrary(lib) {\n",
    "      printToPage(\"📚 All books in the library:\");\n",
    "      lib.forEach((book, i) => {\n",
    "          printToPage(`Index ${i}: ${book.title} by ${book.author} | Checked Out: ${book.checkedOut}`);\n",
    "      });\n",
    "      printToPage(\"----------------------------------\");\n",
    "  }\n",
    "\n",
    "  // Add a new book\n",
    "  function addBook(lib) {\n",
    "      let title = prompt(\"Enter book title:\");\n",
    "      let author = prompt(\"Enter author name:\");\n",
    "      let checkedOutInput = prompt(\"Is it checked out? (yes/no):\");\n",
    "      let checkedOut = checkedOutInput.toLowerCase() === \"yes\";\n",
    "\n",
    "      lib.push({ title, author, checkedOut });\n",
    "      printToPage(`✅ Added new book: ${title} by ${author}`);\n",
    "  }\n",
    "\n",
    "  // Find a book by title\n",
    "  function findBook(lib) {\n",
    "      let title = prompt(\"Enter the title of the book to find:\");\n",
    "      let book = lib.find(b => b.title.toLowerCase() === title.toLowerCase());\n",
    "      if (book) {\n",
    "          printToPage(`🔍 Found book: ${book.title} by ${book.author} | Checked Out: ${book.checkedOut}`);\n",
    "      } else {\n",
    "          printToPage(`❌ Book titled \"${title}\" not found.`);\n",
    "      }\n",
    "  }\n",
    "\n",
    "  // Update a book’s checkedOut status\n",
    "  function updateBook(lib) {\n",
    "      let title = prompt(\"Enter the title of the book to update:\");\n",
    "      let book = lib.find(b => b.title.toLowerCase() === title.toLowerCase());\n",
    "      if (book) {\n",
    "          let newStatusInput = prompt(\"Is the book checked out now? (yes/no):\");\n",
    "          book.checkedOut = newStatusInput.toLowerCase() === \"yes\";\n",
    "          printToPage(`🔄 Updated \"${book.title}\": Checked Out is now ${book.checkedOut}`);\n",
    "      } else {\n",
    "          printToPage(`❌ Book titled \"${title}\" not found for update.`);\n",
    "      }\n",
    "  }\n",
    "\n",
    "  // Delete a book by title\n",
    "  function deleteBook(lib) {\n",
    "      let title = prompt(\"Enter the title of the book to delete:\");\n",
    "      let index = lib.findIndex(b => b.title.toLowerCase() === title.toLowerCase());\n",
    "      if (index !== -1) {\n",
    "          let removed = lib.splice(index, 1);\n",
    "          printToPage(`🗑️ Deleted \"${removed[0].title}\" from library.`);\n",
    "      } else {\n",
    "          printToPage(`❌ Book titled \"${title}\" not found for deletion.`);\n",
    "      }\n",
    "  }\n",
    "\n",
    "  // Add buttons for interaction\n",
    "  let controlsDiv = document.createElement(\"div\");\n",
    "  controlsDiv.style.marginBottom = \"10px\";\n",
    "  controlsDiv.innerHTML = `\n",
    "      <button onclick=\"displayLibrary(library)\">📖 Show Library</button>\n",
    "      <button onclick=\"addBook(library)\">➕ Add Book</button>\n",
    "      <button onclick=\"findBook(library)\">🔍 Find Book</button>\n",
    "      <button onclick=\"updateBook(library)\">✏️ Update Book</button>\n",
    "      <button onclick=\"deleteBook(library)\">❌ Delete Book</button>\n",
    "  `;\n",
    "  document.body.insertBefore(controlsDiv, document.getElementById(\"output\"));\n",
    "\n",
    "  // Show initial library\n",
    "  displayLibrary(library);\n",
    "</script>\n"
   ]
  }
 ],
 "metadata": {
  "kernelspec": {
   "display_name": "venv",
   "language": "python",
   "name": "python3"
  },
  "language_info": {
   "codemirror_mode": {
    "name": "ipython",
    "version": 3
   },
   "file_extension": ".py",
   "mimetype": "text/x-python",
   "name": "python",
   "nbconvert_exporter": "python",
   "pygments_lexer": "ipython3",
   "version": "3.12.3"
  }
 },
 "nbformat": 4,
 "nbformat_minor": 5
}
