{
 "cells": [
  {
   "cell_type": "raw",
   "id": "7b98ce38",
   "metadata": {
    "vscode": {
     "languageId": "raw"
    }
   },
   "source": [
    "---\n",
    "toc: true\n",
    "comments: false\n",
    "layout: post\n",
    "categories: [CSP Big Idea 3]\n",
    "title: 3.12 Calling Procedures JavaScript Hacks\n",
    "author: Sathwik Kintada\n",
    "description: 3.12 Calling Procedures JS hacks\n",
    "permalink: /csp/big-idea-3/calling-procedures/p4/hw-js\n",
    "---"
   ]
  },
  {
   "cell_type": "markdown",
   "id": "160c3d0a",
   "metadata": {},
   "source": [
    "\n",
    "# 3.12 Calling Procedures Homework in JavaScript\n",
    "\n",
    "Complete the 4 tasks below as homework:\n",
    "\n",
    "1. Create the functions \n",
    "2. Run the Code cell\n",
    "4. Have fun!\n"
   ]
  },
  {
   "cell_type": "markdown",
   "id": "ebf0a264",
   "metadata": {},
   "source": [
    "**Hack — Example 1: Simple function with no parameters**"
   ]
  },
  {
   "cell_type": "code",
   "execution_count": null,
   "id": "112c4252",
   "metadata": {
    "vscode": {
     "languageId": "javascript"
    }
   },
   "outputs": [],
   "source": [
    "%%js\n",
    "// TODO: Call sayHello to print \"Hello there!\"\n",
    "function sayHello() {\n",
    "    \n",
    "}\n",
    "// sayHello();"
   ]
  },
  {
   "cell_type": "markdown",
   "id": "17ab185e",
   "metadata": {},
   "source": [
    "- Does the code run as expected?\n",
    "- If yes, move on to the next hack."
   ]
  },
  {
   "cell_type": "markdown",
   "id": "e9083de7",
   "metadata": {},
   "source": [
    "**Hack — Example 2: Function with one parameter**"
   ]
  },
  {
   "cell_type": "code",
   "execution_count": null,
   "id": "5575c3fd",
   "metadata": {
    "vscode": {
     "languageId": "javascript"
    }
   },
   "outputs": [],
   "source": [
    "%%js\n",
    "// TODO: Call greet with your name to welcome the student\n",
    "function greet(name) {\n",
    "    \n",
    "}\n",
    "// greet('_____');"
   ]
  },
  {
   "cell_type": "markdown",
   "id": "42d3e631",
   "metadata": {},
   "source": [
    "- Does your code properly greet the person?\n",
    "- Are there no errors in your code?\n",
    "- If yes, move on to the next hack."
   ]
  },
  {
   "cell_type": "markdown",
   "id": "501df5a2",
   "metadata": {},
   "source": [
    "**Hack — Example 3: Function with two parameters**"
   ]
  },
  {
   "cell_type": "code",
   "execution_count": null,
   "id": "342675e4",
   "metadata": {
    "vscode": {
     "languageId": "javascript"
    }
   },
   "outputs": [],
   "source": [
    "%%js\n",
    "// TODO: Call addNumbers with two numbers to print their sum\n",
    "function addNumbers(a, b) {\n",
    "    \n",
    "}\n",
    "// addNumbers(_, _);"
   ]
  },
  {
   "cell_type": "markdown",
   "id": "aec74a73",
   "metadata": {},
   "source": [
    "- Does addNumbers(3, 7) give 10?\n",
    "- Does it work for other numbers too?\n",
    "- If yes, move on to the next hack."
   ]
  },
  {
   "cell_type": "markdown",
   "id": "05f1bdf5",
   "metadata": {},
   "source": [
    "**Hack — Example 4: Function that returns a value**"
   ]
  },
  {
   "cell_type": "code",
   "execution_count": null,
   "id": "8a91b5b9",
   "metadata": {
    "vscode": {
     "languageId": "javascript"
    }
   },
   "outputs": [],
   "source": [
    "%%js\n",
    "// TODO: Implement factorial(n) to return n!\n",
    "function factorial(n) {\n",
    "    \n",
    "}\n",
    "// Example: factorial(5) should return 120\n",
    "// const result = factorial(_);"
   ]
  },
  {
   "cell_type": "markdown",
   "id": "f2c9f82a",
   "metadata": {},
   "source": [
    "- Does factorial(0) return 1?\n",
    "- Does factorial(1) return 1?\n",
    "- Does factorial(5) return 120?\n",
    "- If yes, move on to the next hack."
   ]
  },
  {
   "cell_type": "markdown",
   "id": "4a7a8ee2",
   "metadata": {},
   "source": [
    "**Hack - Challenge Example 5: Function calling another function**"
   ]
  },
  {
   "cell_type": "code",
   "execution_count": null,
   "id": "1c57fa10",
   "metadata": {
    "vscode": {
     "languageId": "javascript"
    }
   },
   "outputs": [],
   "source": [
    "%%js\n",
    "// Dictionary (object) of items and their prices\n",
    "const storeItems = {\n",
    "  apple: 1.25,\n",
    "  banana: 0.75,\n",
    "  milk: 3.5,\n",
    "  bread: 2.0\n",
    "};\n",
    "\n",
    "// Function 1: calculate subtotal\n",
    "function getSubtotal(cart) {\n",
    "  /*\n",
    "    Takes an object of items (item: quantity)\n",
    "    and returns the total before tax.\n",
    "  */\n",
    "  let subtotal = 0;\n",
    "  // TODO: for each item in cart:\n",
    "  // - find its price in storeItems\n",
    "  // - multiply by quantity\n",
    "  // - add to subtotal\n",
    "  return subtotal;\n",
    "}\n",
    "\n",
    "// Function 2: add tax\n",
    "function addTax(subtotal, taxRate) {\n",
    "  /*\n",
    "    Takes subtotal and tax rate (like 0.08 for 8%)\n",
    "    and returns the total with tax.\n",
    "  */\n",
    "  // TODO: calculate total with tax and return it\n",
    "  return 0; // placeholder\n",
    "}\n",
    "\n",
    "// Function 3: checkout\n",
    "function checkout(cart, taxRate) {\n",
    "  /*\n",
    "    Calls getSubtotal() and addTax()\n",
    "    to print subtotal and final total.\n",
    "  */\n",
    "  // TODO: get subtotal using getSubtotal(cart)\n",
    "  // TODO: get total using addTax(subtotal, taxRate)\n",
    "  // TODO: log both subtotal and total\n",
    "}\n",
    "\n",
    "// Example cart for testing\n",
    "const myCart = {\n",
    "  apple: 2,\n",
    "  milk: 1,\n",
    "  bread: 1\n",
    "};\n",
    "\n",
    "// TODO: call checkout(myCart, 0.08)\n"
   ]
  },
  {
   "cell_type": "markdown",
   "id": "3994dc3f",
   "metadata": {},
   "source": [
    "- If the shopping cart contains 2 apples, 1 milk, and 1 bread, will your program show a subtotal of $8.00 and a total of $8.64 with an 8% tax rate?\n",
    "- Try changing the cart to 3 bananas and 2 milk — should the subtotal be $10.25 and the total with 8% tax be $11.07?\n",
    "- If your output matches these totals, your function calls and calculations are correct!"
   ]
  }
 ],
 "metadata": {
  "language_info": {
   "name": "python"
  }
 },
 "nbformat": 4,
 "nbformat_minor": 5
}
