{
 "cells": [
  {
   "cell_type": "raw",
   "id": "ad53e79b",
   "metadata": {
    "vscode": {
     "languageId": "raw"
    }
   },
   "source": [
    "---\n",
    "layout: base\n",
    "title: Python Homework Iterations\n",
    "description: Homework for Iterations lesson in Python\n",
    "toc: False\n",
    "comments: False\n",
    "permalink: /csp/big-idea-3/scratchers/iterations/python_hw\n",
    "comments: true\n",
    "---"
   ]
  },
  {
   "cell_type": "markdown",
   "id": "fe32c2f4",
   "metadata": {},
   "source": [
    "## 3.8 Iterations Homework in Python\n",
    "\n",
    "Complete the 4 hacks down below as homework:\n",
    "1. Uncomment the base code so that you can work on adding what you need to produce the correct outputs\n",
    "2. Make sure you connect too the python kernal to display an output\n",
    "3. Some questions require you to fill in the blanks. Beware of the '_' that you need to delete and replace with numbers or words\n",
    "3. Make sure everything is re-indented properly before you run the code in the notebook\n",
    "4. Have fun!"
   ]
  },
  {
   "cell_type": "markdown",
   "id": "ca4cead6",
   "metadata": {},
   "source": [
    "### Hack #1: Write a for loop that prints the numbers 1 through 10."
   ]
  },
  {
   "cell_type": "code",
   "execution_count": 14,
   "id": "f03bad4e",
   "metadata": {},
   "outputs": [
    {
     "name": "stdout",
     "output_type": "stream",
     "text": [
      "1\n",
      "2\n",
      "3\n",
      "4\n",
      "5\n",
      "6\n",
      "7\n",
      "8\n",
      "9\n",
      "10\n"
     ]
    }
   ],
   "source": [
    "for i in range(1, 11):\n",
    "    print(i)\n"
   ]
  },
  {
   "cell_type": "markdown",
   "id": "b6fed8d9",
   "metadata": {},
   "source": [
    "### Hack #2: Write a while loop that prints the even numbers between 2 and 20."
   ]
  },
  {
   "cell_type": "markdown",
   "id": "f2c91e83",
   "metadata": {},
   "source": [
    "Hint 1 for Hack #2: You need to remember your work with math equations. (What goes before the equal sign?)\n",
    "\n",
    "Hint 2 for Hack #2: You need to remember variables. (What is the initial condition?)"
   ]
  },
  {
   "cell_type": "code",
   "execution_count": 13,
   "id": "ec7bdf01",
   "metadata": {},
   "outputs": [
    {
     "name": "stdout",
     "output_type": "stream",
     "text": [
      "2\n",
      "4\n",
      "6\n",
      "8\n",
      "10\n",
      "12\n",
      "14\n",
      "16\n",
      "18\n",
      "20\n"
     ]
    }
   ],
   "source": [
    "num = 2\n",
    "while num <= 20:\n",
    "    print(num)\n",
    "    num += 2\n"
   ]
  },
  {
   "cell_type": "markdown",
   "id": "c538af34",
   "metadata": {},
   "source": [
    "### Hack #3: Shapes! Make the following shapes using iteration loops with the symbol `*`"
   ]
  },
  {
   "cell_type": "markdown",
   "id": "4dad67ee",
   "metadata": {},
   "source": [
    "This might be a little challenging but think about how you need your outputs to look."
   ]
  },
  {
   "cell_type": "code",
   "execution_count": 12,
   "id": "55ae1549",
   "metadata": {},
   "outputs": [
    {
     "name": "stdout",
     "output_type": "stream",
     "text": [
      "*\n",
      "**\n",
      "***\n",
      "****\n",
      "*****\n",
      "*****\n",
      "*****\n",
      "*****\n",
      "*****\n",
      "*****\n"
     ]
    }
   ],
   "source": [
    "# 1. Right triangle\n",
    "for i in range(1, 6):\n",
    "    print(\"*\" * i)\n",
    "\n",
    "# 2. Square (5x5)\n",
    "for i in range(5):\n",
    "    print(\"*\" * 5)\n"
   ]
  },
  {
   "cell_type": "markdown",
   "id": "22645dc8",
   "metadata": {},
   "source": [
    "### Hack #4: Fruits! Choose your favorate fruits and list them using iterations"
   ]
  },
  {
   "cell_type": "markdown",
   "id": "e9aaadb8",
   "metadata": {},
   "source": [
    "Pick you 3 favorte fruits and list them in the blanks"
   ]
  },
  {
   "cell_type": "code",
   "execution_count": 11,
   "id": "e58ce72a",
   "metadata": {},
   "outputs": [
    {
     "name": "stdout",
     "output_type": "stream",
     "text": [
      "watermelon\n",
      "mango\n",
      "canteloupe\n"
     ]
    }
   ],
   "source": [
    "fruits = [\"watermelon\", \"mango\", \"canteloupe\"]\n",
    "\n",
    "for fruit in fruits:\n",
    "    print(fruit)\n"
   ]
  },
  {
   "cell_type": "code",
   "execution_count": 10,
   "id": "c524f3fb",
   "metadata": {},
   "outputs": [
    {
     "name": "stdout",
     "output_type": "stream",
     "text": [
      "apple\n",
      "banana\n",
      "cherry\n"
     ]
    }
   ],
   "source": [
    "fruits = [\"apple\", \"banana\", \"cherry\"]\n",
    "\n",
    "i = 0\n",
    "while i < len(fruits):\n",
    "    print(fruits[i])\n",
    "    i += 1\n"
   ]
  }
 ],
 "metadata": {
  "kernelspec": {
   "display_name": "Python 3",
   "language": "python",
   "name": "python3"
  },
  "language_info": {
   "codemirror_mode": {
    "name": "ipython",
    "version": 3
   },
   "file_extension": ".py",
   "mimetype": "text/x-python",
   "name": "python",
   "nbconvert_exporter": "python",
   "pygments_lexer": "ipython3",
   "version": "3.12.3"
  }
 },
 "nbformat": 4,
 "nbformat_minor": 5
}
