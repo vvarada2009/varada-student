{
 "cells": [
  {
   "cell_type": "raw",
   "id": "4e3e77eb",
   "metadata": {
    "vscode": {
     "languageId": "raw"
    }
   },
   "source": [
    "---\n",
    "layout: post\n",
    "title: \"Crashers - 3.17 Algorithmic Efficiency Python Hacks\"\n",
    "categories: [Python]\n",
    "tags: [python, javascript, algorithms, lesson, beginner]\n",
    "description: Learn about algorithms and how they can be more or less efficient\n",
    "permalink: /python/algorithmic-efficiency/crashers-hw\n",
    "---"
   ]
  },
  {
   "cell_type": "markdown",
   "id": "825f983c",
   "metadata": {},
   "source": [
    "## Algorithmic Efficiency Hacks: Python\n",
    "\n",
    "Let's test your knowledge on algorithmic efficiency!\n",
    "\n",
    "### Hack 1: How Much Time?\n",
    "\n",
    "#### Objective: write the time complexity of the algorithm below using Big-O notation.\n",
    "(don't worry about special cases such as n = 1 or n = 0)."
   ]
  },
  {
   "cell_type": "code",
   "execution_count": null,
   "id": "1fc4bcce",
   "metadata": {},
   "outputs": [],
   "source": [
    "n = int(input()) # remember what O(n) means? This is a good way of visualizing n.\n",
    "\n",
    "for i in range(n):\n",
    "    print(i)\n",
    "\n",
    "#TODO: print the above algorithm's time complexity"
   ]
  },
  {
   "cell_type": "markdown",
   "id": "4e562838",
   "metadata": {},
   "source": [
    "### Hack 2: Your Turn!\n",
    "\n",
    "#### Objective: <strong>write</strong> an algorithm with O(n^2) time complexity."
   ]
  },
  {
   "cell_type": "code",
   "execution_count": null,
   "id": "f9394969",
   "metadata": {},
   "outputs": [],
   "source": [
    "n = int(input())\n",
    "\n",
    "#TODO: Write an algorithm with O(n^2) time complexity\n",
    "#Hint: think about nested loops..."
   ]
  },
  {
   "cell_type": "markdown",
   "id": "26d353f3",
   "metadata": {},
   "source": [
    "### Hack 3: Gotta Go Fast!\n",
    "\n",
    "#### Objective: Optimize this algorithm so that it has a lower time complexity <strong>without modifying the outer loop</strong>"
   ]
  },
  {
   "cell_type": "code",
   "execution_count": null,
   "id": "83acbe82",
   "metadata": {},
   "outputs": [
    {
     "name": "stdout",
     "output_type": "stream",
     "text": [
      "42\n"
     ]
    }
   ],
   "source": [
    "import math\n",
    "n = int(input())\n",
    "count = 0\n",
    "\n",
    "for i in range(n):\n",
    "    for j in range(math.ceil(math.sqrt(n)*2)):\n",
    "        count += 1\n",
    "\n",
    "print(count)\n",
    "\n",
    "#TODO: make this algorithm more efficient, but keep the outer loop and make sure the output is still the same!\n",
    "#Hint: how does the inner loop affect time complexity?"
   ]
  },
  {
   "cell_type": "markdown",
   "id": "e6e45a7b",
   "metadata": {},
   "source": [
    "### Hack 4: Extra Challenge \n",
    "\n",
    "#### Objective: Write an algorithm that does <strong>NOT</strong> have a time complexity of O(1), O(n), or O(n^x) and identify the time complexity\n",
    "##### (I will not accept O(n^3) or some other power, it needs to be more complex.)"
   ]
  },
  {
   "cell_type": "code",
   "execution_count": null,
   "id": "87c33c6e",
   "metadata": {},
   "outputs": [],
   "source": [
    "n = int(input())\n",
    "\n",
    "#TODO: Write an algorithm that has a more complicated time complexity than O(n^x)."
   ]
  }
 ],
 "metadata": {
  "kernelspec": {
   "display_name": "Python 3",
   "language": "python",
   "name": "python3"
  },
  "language_info": {
   "codemirror_mode": {
    "name": "ipython",
    "version": 3
   },
   "file_extension": ".py",
   "mimetype": "text/x-python",
   "name": "python",
   "nbconvert_exporter": "python",
   "pygments_lexer": "ipython3",
   "version": "3.12.3"
  }
 },
 "nbformat": 4,
 "nbformat_minor": 5
}
