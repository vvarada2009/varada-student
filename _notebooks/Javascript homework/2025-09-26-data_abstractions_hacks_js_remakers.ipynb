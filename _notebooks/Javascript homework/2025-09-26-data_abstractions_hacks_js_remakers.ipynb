{
 "cells": [
  {
   "cell_type": "code",
   "execution_count": null,
   "id": "e4102f0e",
   "metadata": {
    "vscode": {
     "languageId": "yaml"
    }
   },
   "outputs": [],
   "source": [
    "---\n",
    "toc: true\n",
    "comments: false\n",
    "layout: post\n",
    "categories: [CSP Big Idea 3]\n",
    "title: 3.2 Data Abstractions JS Hack\n",
    "author: Jaynee Chauhan, Michelle Ji, Lucas Masterson\n",
    "description: Hack(s) for intro to data abstractions in JS.\n",
    "type: ccc\n",
    "permalink: /csp/big-idea-3/data-abstractions/p4/hacks-js\n",
    "---"
   ]
  },
  {
   "cell_type": "markdown",
   "id": "690b4172",
   "metadata": {},
   "source": [
    "## JS Lab: Library\n",
    "\n",
    "In this lab, similarly to the Python lab, you'll be working on a simple \"database\" for a library to understand CRUD operations in relation to representing redundant, similar data under one structure -- an abstraction.\n",
    "\n",
    "For JavaScript, you'll have to open the web console from Developer Tools (`ctrl + shift + p` -> `Developer: Toggle developer tools`)."
   ]
  },
  {
   "cell_type": "code",
   "execution_count": null,
   "id": "d7228dda",
   "metadata": {
    "vscode": {
     "languageId": "javascript"
    }
   },
   "outputs": [],
   "source": [
    "%%js\n",
    "// Our \"database\" is an array of objects, each representing a book in a library\n",
    "let library = [\n",
    "    { title: \"1984\", author: \"George Orwell\", checkedOut: false },\n",
    "    { title: \"To Kill a Mockingbird\", author: \"Harper Lee\", checkedOut: true },\n",
    "    { title: \"The Great Gatsby\", author: \"F. Scott Fitzgerald\", checkedOut: false }\n",
    "];\n",
    "\n",
    "// Function to display all books\n",
    "function displayLibrary(lib) {\n",
    "    console.log(\"All books in the library:\");\n",
    "    lib.forEach((book, i) => {\n",
    "        console.log(`Index ${i}:`, book);\n",
    "    });\n",
    "}\n",
    "\n",
    "// Function to add a new book\n",
    "function addBook(lib) {\n",
    "    let title = prompt(\"Enter book title:\");\n",
    "    let author = prompt(\"Enter author name:\");\n",
    "    let checkedOutInput = prompt(\"Is the book checked out? (yes or no):\");\n",
    "    let checkedOut = checkedOutInput.toLowerCase() === \"yes\";\n",
    "\n",
    "    let newBook = { title: title, author: author, checkedOut: checkedOut };\n",
    "    lib.push(newBook);\n",
    "    console.log(`Book '${title}' added successfully!`);\n",
    "}\n",
    "\n",
    "// Function to find a book by title\n",
    "function findBook(lib, searchTitle) {\n",
    "    for (let book of lib) {\n",
    "        if (book.title.toLowerCase() === searchTitle.toLowerCase()) {\n",
    "            console.log(\"Book found:\", book);\n",
    "            return;\n",
    "        }\n",
    "    }\n",
    "    console.log(`No book found with title '${searchTitle}'`);\n",
    "}\n",
    "\n",
    "// Function to update a book's checkedOut status\n",
    "function updateBook(lib, searchTitle) {\n",
    "    for (let book of lib) {\n",
    "        if (book.title.toLowerCase() === searchTitle.toLowerCase()) {\n",
    "            console.log(\"Current book status:\", book);\n",
    "            let newStatusInput = prompt(\"Is the book checked out now? (yes or no):\");\n",
    "            book.checkedOut = newStatusInput.toLowerCase() === \"yes\";\n",
    "            console.log(`Book '${searchTitle}' updated successfully!`);\n",
    "            return;\n",
    "        }\n",
    "    }\n",
    "    console.log(`No book found with title '${searchTitle}'`);\n",
    "}\n",
    "\n",
    "// Function to delete a book\n",
    "function deleteBook(lib, searchTitle) {\n",
    "    for (let i = 0; i < lib.length; i++) {\n",
    "        if (lib[i].title.toLowerCase() === searchTitle.toLowerCase()) {\n",
    "            lib.splice(i, 1);\n",
    "            console.log(`Book '${searchTitle}' deleted successfully!`);\n",
    "            return;\n",
    "        }\n",
    "    }\n",
    "    console.log(`No book found with title '${searchTitle}'`);\n",
    "}\n",
    "\n",
    "// Example usage\n",
    "displayLibrary(library);\n",
    "\n",
    "// Uncomment the following lines one by one to test CRUD operations:\n",
    "\n",
    "// addBook(library); // Prompts to add a new book\n",
    "// findBook(library, \"1984\"); // Finds a book by title\n",
    "// updateBook(library, \"To Kill a Mockingbird\"); // Updates checkedOut status\n",
    "// deleteBook(library, \"The Great Gatsby\"); // Deletes a book\n",
    "\n",
    "// Display library again after changes\n",
    "// displayLibrary(library);\n"
   ]
  }
 ],
 "metadata": {
  "kernelspec": {
   "display_name": "venv",
   "language": "python",
   "name": "python3"
  },
  "language_info": {
   "codemirror_mode": {
    "name": "ipython",
    "version": 3
   },
   "file_extension": ".py",
   "mimetype": "text/x-python",
   "name": "python",
   "nbconvert_exporter": "python",
   "pygments_lexer": "ipython3",
   "version": "3.13.7"
  }
 },
 "nbformat": 4,
 "nbformat_minor": 5
}
