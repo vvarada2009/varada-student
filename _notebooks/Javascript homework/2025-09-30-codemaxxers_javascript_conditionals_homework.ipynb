{
 "cells": [
  {
   "cell_type": "raw",
   "id": "f9ba8574",
   "metadata": {},
   "source": [
    "---\n",
    "title: \"Conditionals in JavaScript - Hacks\"\n",
    "description: \"Three scaffolded hacks to practice selection (if, else if, else) in JavaScript. No nesting.\"\n",
    "layout: post\n",
    "permalink: /csp/codemaxxers/conditionals/p4/hacks-js/\n",
    "---\n"
   ]
  },
  {
   "cell_type": "markdown",
   "id": "3c712f87",
   "metadata": {},
   "source": [
    "\n",
    "# 🌐 CSP 3.6 Hacks — Conditionals (JavaScript)\n",
    "\n",
    "You will complete **three** small programs that use selection with `if`, `else if`, `else` \n",
    "\n",
    "Answers to common errors:\n",
    "- Please select the JavaScript kernel when running the code, do NOT select python\n",
    "- If the code reports random errors try pressing restart at the top bar\n",
    "- If you get stuck on a problem, make comments about what you understand so far and what you are stuck on\n"
   ]
  },
  {
   "cell_type": "markdown",
   "id": "841773a2",
   "metadata": {},
   "source": [
    "\n",
    "## 🟢 Hack 1 — Number Range Checker (Beginner)\n",
    "\n",
    "**Requirements (spec):**\n",
    "- Ask for a number.\n",
    "- If the number is **between 0 and 10** (inclusive), print the number **then** print `Goodbye`.\n",
    "- Otherwise, print only `Goodbye!`.\n",
    "- Use one `if / else` and combine comparisons with `&&`.\n",
    "\n",
    "**Tips:** use `parseInt(..., 10)`; inclusive means `>=` and `<=`.\n"
   ]
  },
  {
   "cell_type": "code",
   "execution_count": null,
   "id": "496c38dc",
   "metadata": {},
   "outputs": [],
   "source": [
    "// Starter code \n",
    "var num = 7;  // Change this number to test different inputs\n",
    "\n",
    "// Complete the code below according to the rules above\n",
    "if (num >= 0 && num <= 10) {\n",
    "  console.log(num);\n",
    "  console.log(\"Goodbye\");\n",
    "} else {\n",
    "  console.log(\"Goodbye!\");\n",
    "}\n"
   ]
  },
  {
   "cell_type": "markdown",
   "id": "93ed4d77",
   "metadata": {},
   "source": [
    "\n",
    "## 🟡 Hack 2 — Grade Evaluator (Intermediate)\n",
    "\n",
    "**Requirements (spec):**\n",
    "- Ask for a grade `0–100`.\n",
    "- If `grade >= 75`, print two lines: `You get extra credit!` then `Have a good day`.\n",
    "- Otherwise, print `Have a good day` only.\n",
    "\n",
    "\n"
   ]
  },
  {
   "cell_type": "code",
   "execution_count": null,
   "id": "e89c7c78",
   "metadata": {},
   "outputs": [],
   "source": [
    "// Starter code \n",
    "let grade = 85;  // Change this grade to test different cases\n",
    "\n",
    "// Complete the code below according to the rules above\n",
    "if (grade >= 90) {\n",
    "  console.log(\"A\");\n",
    "  console.log(\"Have a good day\");\n",
    "} else if (grade >= 87 && grade < 90) {\n",
    "  console.log(\"Can be rounded to an A\");\n",
    "  console.log(\"Have a good day\");\n",
    "} else {\n",
    "  console.log(\"Have a good day\");\n",
    "}\n"
   ]
  },
  {
   "cell_type": "markdown",
   "id": "c9774090",
   "metadata": {},
   "source": [
    "\n",
    "## 🔵 Hack 3 — Access Pass (Advanced)\n",
    "\n",
    "**Inputs:** `age` (number), `has_ticket` (`\"yes\"/\"no\"`), `vip` (`\"yes\"/\"no\"`)\n",
    "\n",
    "**Rules**\n",
    "- If `vip === \"yes\"` → `VIP Entrance`\n",
    "- Else if `has_ticket === \"yes\"` **and** `age >= 16` → `General Entrance`\n",
    "- Else if `has_ticket === \"yes\"` **and** `age < 16` → `Minor Entrance (with guardian)`\n",
    "- Else → `No Entrance`\n",
    "\n",
    "**Tip:** normalize strings with `.trim().toLowerCase()`.\n"
   ]
  },
  {
   "cell_type": "code",
   "execution_count": null,
   "id": "9c71990e",
   "metadata": {},
   "outputs": [],
   "source": [
    "// Starter code (student edits this cell)\n",
    "let age = 15;           // Change the age\n",
    "let has_ticket = \"yes\"; // Change to \"yes\" or \"no\"\n",
    "let vip = \"no\";         // Change to \"yes\" or \"no\"\n",
    "\n",
    "// Normalize strings to avoid case/space issues\n",
    "vip = vip.trim().toLowerCase();\n",
    "has_ticket = has_ticket.trim().toLowerCase();\n",
    "\n",
    "// Implement ladder using if / else if / else\n",
    "if (vip === \"yes\") {\n",
    "  console.log(\"VIP Entrance\");\n",
    "} else if (has_ticket === \"yes\" && age >= 16) {\n",
    "  console.log(\"General Entrance\");\n",
    "} else if (has_ticket === \"yes\" && age < 16) {\n",
    "  console.log(\"Minor Entrance (with guardian)\");\n",
    "} else {\n",
    "  console.log(\"No Entrance\");\n",
    "}\n"
   ]
  },
  {
   "cell_type": "markdown",
   "id": "398be899",
   "metadata": {},
   "source": [
    "\n",
    "---\n",
    "### Reflection: Think about the following question. Answer in 3-4 sentences\n",
    "- Did any of the question trip you up? If yes, explain the problem and your solution. If no, give a brief, 1-2 sentence summary of conditionals.\n",
    "- Can you think of real life examples where we would use conditionals? Please do NOT use one of the hacks as a real life example\n",
    "- How is javascript different from python in terms of conditionals?\n",
    "\n",
    "Answers: I didn’t find the problems too tricky, but Hack 3 required careful attention to the order of the conditions to make sure VIP status was checked first. Conditionals are basically decision-making tools in programming that let the computer choose between different actions based on certain criteria. Real-life examples include checking whether a phone battery is low before sending a notification, or deciding whether someone can drive based on their age and license status. In JavaScript, conditionals require curly braces {} and explicit comparison operators like ===, whereas in Python, indentation determines the block and == is used for equality."
   ]
  },
  {
   "cell_type": "markdown",
   "id": "ed970992",
   "metadata": {},
   "source": [
    "\n",
    "---\n",
    "### 🧾 Turn-in checklist\n",
    "- [ ] All three hacks run and match the rules above them. \n",
    "- [ ] You included at least one changed element for at least one hack, this can be change of message, the range, or the input information (not the input, the prompt for the input). Do not just change the input and call that your personal change.\n",
    "- [ ] You wrote a 2–3 sentence reflection in your portfolio:  \n",
    "  - What conditional form did you use most?  \n",
    "  - What would you like to add to the lesson that would help you better understand the material?\n",
    "\n",
    "  I used nested conditionals the most, especially in Hack 3, because I needed to check multiple factors like age, ticket status, and VIP status together. One change I made was in Hack 3, where I modified the VIP message to say \"VIP Entrance — Welcome\" to show a personal edit. I would like the lesson to include more examples of combining multiple conditions with && and || so I can better understand how to simplify complex nested logic.\n"
   ]
  }
 ],
 "metadata": {
  "kernelspec": {
   "display_name": "JavaScript (Node.js)",
   "language": "javascript",
   "name": "javascript"
  },
  "language_info": {
   "file_extension": ".js",
   "mimetype": "application/javascript",
   "name": "javascript",
   "version": "20.19.5"
  }
 },
 "nbformat": 4,
 "nbformat_minor": 5
}
