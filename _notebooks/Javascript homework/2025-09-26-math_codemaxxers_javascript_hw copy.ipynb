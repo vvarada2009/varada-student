{
 "cells": [
  {
   "cell_type": "raw",
   "id": "6290bcd2",
   "metadata": {
    "vscode": {
     "languageId": "raw"
    }
   },
   "source": [
    "---\n",
    "title: \"Mathematical Operations in Javascript and Python - Hacks\"\n",
    "description: \"Apply your skills of math, logic, and coding.\"\n",
    "layout: post\n",
    "permalink: /javascript/mathematical-expressions/codemaxxers-hw\n",
    "---"
   ]
  },
  {
   "cell_type": "markdown",
   "id": "d98b569e",
   "metadata": {},
   "source": [
    "# Basic Algebraic Math hacks\n",
    "\n",
    "## Q1 (Exponents):\n",
    "### A cube has a side length of 6 units. What is its volume?"
   ]
  },
  {
   "cell_type": "code",
   "execution_count": null,
   "id": "235ceb13",
   "metadata": {
    "vscode": {
     "languageId": "javascript"
    }
   },
   "outputs": [],
   "source": [
    "%%js\n",
    "\n",
    "// Basic Algebraic Math hacks\n",
    "\n",
    "// Q1 (Exponents): A cube has a side length of 6 units. What is its volume?\n",
    "let side = 6;\n",
    "let volume = side ** 3;\n",
    "console.log(volume);  // 216\n"
   ]
  },
  {
   "cell_type": "markdown",
   "id": "3fb1dd4d",
   "metadata": {},
   "source": [
    "## Q2 (PEMDAS):\n",
    "### Evaluate the expression: \n",
    "\n",
    "(7+14)*5/12 + 2"
   ]
  },
  {
   "cell_type": "code",
   "execution_count": null,
   "id": "49d712a3",
   "metadata": {
    "vscode": {
     "languageId": "javascript"
    }
   },
   "outputs": [],
   "source": [
    "%%js\n",
    "let sum = (7 + 14);\n",
    "let product = (sum * 5);\n",
    "let quotient = (product / 12);\n",
    "let finalResult = (quotient + 2);\n",
    "console.log(finalResult);\n"
   ]
  },
  {
   "cell_type": "markdown",
   "id": "fcaa4762",
   "metadata": {},
   "source": [
    "## Q3 (Algorithm): \n",
    "\n",
    "Write JavaScript  code where you define variables and run commands that find the values of operations you apply onto them"
   ]
  },
  {
   "cell_type": "code",
   "execution_count": null,
   "id": "0a2081a9",
   "metadata": {
    "vscode": {
     "languageId": "javascript"
    }
   },
   "outputs": [],
   "source": [
    "%%js\n",
    "// Q3 (Algorithm) Example\n",
    "\n",
    "// Step 1: Define variables\n",
    "let a = 10;\n",
    "let b = 5;\n",
    "\n",
    "// Step 2: Perform operations\n",
    "let sum = a + b;           // addition\n",
    "let difference = a - b;    // subtraction\n",
    "let product = a * b;       // multiplication\n",
    "let quotient = a / b;      // division\n",
    "let power = a ** 2;        // exponentiation\n",
    "\n",
    "// Step 3: Print results\n",
    "console.log(\"Sum:\", sum);             // 15\n",
    "console.log(\"Difference:\", difference); // 5\n",
    "console.log(\"Product:\", product);       // 50\n",
    "console.log(\"Quotient:\", quotient);     // 2\n",
    "console.log(\"Power:\", power);           // 100\n"
   ]
  },
  {
   "cell_type": "markdown",
   "id": "7927eeac",
   "metadata": {},
   "source": [
    "<img src=\"/images/3_3diagram.png\" alt=\"Diagram showing mathematical operations\" style=\"max-width:300px; margin:10px;\">\n"
   ]
  }
 ],
 "metadata": {
  "kernelspec": {
   "display_name": "Python 3",
   "language": "python",
   "name": "python3"
  },
  "language_info": {
   "codemirror_mode": {
    "name": "ipython",
    "version": 3
   },
   "file_extension": ".py",
   "mimetype": "text/x-python",
   "name": "python",
   "nbconvert_exporter": "python",
   "pygments_lexer": "ipython3",
   "version": "3.12.3"
  }
 },
 "nbformat": 4,
 "nbformat_minor": 5
}
