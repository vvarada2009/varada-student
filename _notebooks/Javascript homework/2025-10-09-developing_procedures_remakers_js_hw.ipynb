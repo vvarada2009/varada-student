{
 "cells": [
  {
   "cell_type": "raw",
   "id": "347e901f",
   "metadata": {
    "vscode": {
     "languageId": "raw"
    }
   },
   "source": [
    "---\n",
    "toc: true\n",
    "layout: post\n",
    "categories: [JavaScript]\n",
    "title: Remakers - 3.13 Developing Procedures JS Hacks\n",
    "description: \"Apply your skills to basic procedure development in Javascript.\"\n",
    "permalink: /javascript/developing-procedures/remakers-hw\n",
    "author: Krishna Visvanath, Sloane Sommers\n",
    "---"
   ]
  },
  {
   "cell_type": "raw",
   "id": "38483feb",
   "metadata": {
    "vscode": {
     "languageId": "raw"
    }
   },
   "source": [
    "### Q1 (Easy)\n",
    "Which of these procedures is named wrong, provide a **short** explanation of justification"
   ]
  },
  {
   "cell_type": "code",
   "execution_count": null,
   "id": "690e6f19",
   "metadata": {},
   "outputs": [],
   "source": [
    "%%js\n",
    "\n",
    "function mixIngredients()\n",
    "\n",
    "function doIt()\n",
    "\n",
    "function makeLeftTurn()"
   ]
  },
  {
   "cell_type": "markdown",
   "id": "bff45a3e",
   "metadata": {},
   "source": [
    "**Explanation Here:**\n",
    "doIt is wrong because its name is too vague and does not describe what the function actually does."
   ]
  },
  {
   "cell_type": "markdown",
   "id": "e5480b09",
   "metadata": {},
   "source": [
    "### Q2 (Medium)\n",
    "Finish the code to have a correctly named procedure"
   ]
  },
  {
   "cell_type": "code",
   "execution_count": 5,
   "id": "4bc531e4",
   "metadata": {
    "vscode": {
     "languageId": "javascript"
    }
   },
   "outputs": [
    {
     "data": {
      "application/javascript": "function makeLeftTurn() {\n    moveForward();\n    rotate180();\n    moveForward();\n}\n\n// Procedure definitions\nfunction moveForward() {\n    console.log(\"Moving forward.\");\n}\n\nfunction rotate180() {\n    console.log(\"Turning left\");\n}\n\n// Run the procedure\nmakeLeftTurn();\n",
      "text/plain": [
       "<IPython.core.display.Javascript object>"
      ]
     },
     "metadata": {},
     "output_type": "display_data"
    }
   ],
   "source": [
    "%%js \n",
    "function makeLeftTurn() {\n",
    "    moveForward();\n",
    "    rotate180();\n",
    "    moveForward();\n",
    "}\n",
    "\n",
    "// Procedure definitions\n",
    "function moveForward() {\n",
    "    console.log(\"Moving forward.\");\n",
    "}\n",
    "\n",
    "function rotate180() {\n",
    "    console.log(\"Turning left\");\n",
    "}\n",
    "\n",
    "// Run the procedure\n",
    "makeLeftTurn();\n"
   ]
  },
  {
   "cell_type": "code",
   "execution_count": null,
   "id": "d6c06eb0",
   "metadata": {
    "vscode": {
     "languageId": "javascript"
    }
   },
   "outputs": [],
   "source": [
    "### Q3 (Hard)\n",
    "Write code to fulfill the requirements\n",
    "Doing a dance! 🕺💃\n",
    "Must have\n",
    "1. A shimmy left procedure\n",
    "- Print `super cool left slide`\n",
    "2. A shimmy right procedure, print `even cooler right slide`\n",
    "3. Doing a bow to the crowd, print `Great dance!`, `the audience claps at your bow!`"
   ]
  },
  {
   "cell_type": "code",
   "execution_count": 6,
   "id": "818139d1",
   "metadata": {
    "vscode": {
     "languageId": "javascript"
    }
   },
   "outputs": [
    {
     "data": {
      "application/javascript": "// Shimmy left procedure\nfunction shimmyLeft() {\n    console.log(\"super cool left slide\");\n}\n\n// Shimmy right procedure\nfunction shimmyRight() {\n    console.log(\"even cooler right slide\");\n}\n\n// Bow to the crowd procedure\nfunction bowToCrowd() {\n    console.log(\"Great dance!\");\n    console.log(\"the audience claps at your bow!\");\n}\n\n// Main dance procedure\nfunction doDance() {\n    shimmyLeft();\n    shimmyRight();\n    bowToCrowd();\n}\n\n// Run the dance\ndoDance();\n",
      "text/plain": [
       "<IPython.core.display.Javascript object>"
      ]
     },
     "metadata": {},
     "output_type": "display_data"
    }
   ],
   "source": [
    "%%js \n",
    "// Shimmy left procedure\n",
    "function shimmyLeft() {\n",
    "    console.log(\"super cool left slide\");\n",
    "}\n",
    "\n",
    "// Shimmy right procedure\n",
    "function shimmyRight() {\n",
    "    console.log(\"even cooler right slide\");\n",
    "}\n",
    "\n",
    "// Bow to the crowd procedure\n",
    "function bowToCrowd() {\n",
    "    console.log(\"Great dance!\");\n",
    "    console.log(\"the audience claps at your bow!\");\n",
    "}\n",
    "\n",
    "// Main dance procedure\n",
    "function doDance() {\n",
    "    shimmyLeft();\n",
    "    shimmyRight();\n",
    "    bowToCrowd();\n",
    "}\n",
    "\n",
    "// Run the dance\n",
    "doDance();\n"
   ]
  }
 ],
 "metadata": {
  "kernelspec": {
   "display_name": "venv",
   "language": "python",
   "name": "python3"
  },
  "language_info": {
   "codemirror_mode": {
    "name": "ipython",
    "version": 3
   },
   "file_extension": ".py",
   "mimetype": "text/x-python",
   "name": "python",
   "nbconvert_exporter": "python",
   "pygments_lexer": "ipython3",
   "version": "3.12.3"
  }
 },
 "nbformat": 4,
 "nbformat_minor": 5
}
